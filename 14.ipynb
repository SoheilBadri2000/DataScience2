{
  "cells": [
    {
      "cell_type": "code",
      "execution_count": null,
      "metadata": {
        "id": "o4wPoBHUIQwA"
      },
      "outputs": [],
      "source": [
        "from scipy.io import loadmat\n",
        "import numpy as np\n",
        "import pandas as pd\n",
        "import matplotlib.pyplot as plt\n"
      ]
    },
    {
      "cell_type": "code",
      "execution_count": null,
      "metadata": {
        "colab": {
          "base_uri": "https://localhost:8080/"
        },
        "id": "WmZA5ov1IaSd",
        "outputId": "eb198739-1ebf-4ea7-bbdf-d4b5bb75fe47"
      },
      "outputs": [
        {
          "name": "stdout",
          "output_type": "stream",
          "text": [
            "--2024-01-11 06:54:19--  http://ufldl.stanford.edu/housenumbers/train_32x32.mat\n",
            "Resolving ufldl.stanford.edu (ufldl.stanford.edu)... 171.64.68.10\n",
            "Connecting to ufldl.stanford.edu (ufldl.stanford.edu)|171.64.68.10|:80... connected.\n",
            "HTTP request sent, awaiting response... 200 OK\n",
            "Length: 182040794 (174M) [text/plain]\n",
            "Saving to: ‘train_32x32.mat.2’\n",
            "\n",
            "train_32x32.mat.2   100%[===================>] 173.61M  26.2MB/s    in 7.5s    \n",
            "\n",
            "2024-01-11 06:54:26 (23.0 MB/s) - ‘train_32x32.mat.2’ saved [182040794/182040794]\n",
            "\n",
            "--2024-01-11 06:54:26--  http://ufldl.stanford.edu/housenumbers/test_32x32.mat\n",
            "Resolving ufldl.stanford.edu (ufldl.stanford.edu)... 171.64.68.10\n",
            "Connecting to ufldl.stanford.edu (ufldl.stanford.edu)|171.64.68.10|:80... connected.\n",
            "HTTP request sent, awaiting response... 200 OK\n",
            "Length: 64275384 (61M) [text/plain]\n",
            "Saving to: ‘test_32x32.mat.2’\n",
            "\n",
            "test_32x32.mat.2    100%[===================>]  61.30M  20.1MB/s    in 3.2s    \n",
            "\n",
            "2024-01-11 06:54:30 (19.2 MB/s) - ‘test_32x32.mat.2’ saved [64275384/64275384]\n",
            "\n"
          ]
        }
      ],
      "source": [
        "# !wget http://ufldl.stanford.edu/housenumbers/train_32x32.mat\n",
        "# !wget http://ufldl.stanford.edu/housenumbers/test_32x32.mat"
      ]
    },
    {
      "cell_type": "code",
      "execution_count": null,
      "metadata": {
        "id": "gIgx0Hl5IQwE"
      },
      "outputs": [],
      "source": [
        "data_train = loadmat(\"train_32x32.mat\")\n",
        "data_test = loadmat(\"test_32x32.mat\")"
      ]
    },
    {
      "cell_type": "markdown",
      "metadata": {
        "id": "PyWqr7DAJU4Q"
      },
      "source": [
        "## EDA"
      ]
    },
    {
      "cell_type": "code",
      "execution_count": null,
      "metadata": {
        "colab": {
          "base_uri": "https://localhost:8080/"
        },
        "id": "9Gwgc9rtIQwF",
        "outputId": "60757ac6-2bc9-48f4-e5c4-6bcfc417a931"
      },
      "outputs": [
        {
          "data": {
            "text/plain": [
              "{'__header__': b'MATLAB 5.0 MAT-file, Platform: GLNXA64, Created on: Mon Dec  5 21:09:26 2011',\n",
              " '__version__': '1.0',\n",
              " '__globals__': [],\n",
              " 'X': array([[[[ 33,  84,  19, ...,  92, 190, 216],\n",
              "          [ 30,  76,  54, ...,  78, 188, 217],\n",
              "          [ 38,  59, 110, ..., 101, 191, 212]],\n",
              " \n",
              "         [[ 15,  86,  20, ...,  94, 205, 221],\n",
              "          [ 23,  73,  52, ...,  82, 203, 222],\n",
              "          [ 19,  66, 111, ..., 105, 206, 217]],\n",
              " \n",
              "         [[ 15,  77,  25, ..., 114, 220, 226],\n",
              "          [ 17,  78,  57, ..., 101, 218, 227],\n",
              "          [ 19,  56, 116, ..., 125, 220, 221]],\n",
              " \n",
              "         ...,\n",
              " \n",
              "         [[ 72,  90,  65, ..., 200, 229, 200],\n",
              "          [ 65,  78, 144, ..., 201, 231, 199],\n",
              "          [ 56,  69, 223, ..., 203, 224, 191]],\n",
              " \n",
              "         [[ 82,  88,  78, ..., 192, 229, 193],\n",
              "          [ 77,  77, 148, ..., 193, 229, 188],\n",
              "          [ 57,  67, 218, ..., 195, 224, 182]],\n",
              " \n",
              "         [[ 89,  88,  98, ..., 190, 229, 197],\n",
              "          [ 79,  78, 158, ..., 191, 228, 189],\n",
              "          [ 59,  66, 220, ..., 193, 223, 186]]],\n",
              " \n",
              " \n",
              "        [[[ 28,  85,  21, ...,  92, 183, 204],\n",
              "          [ 39,  77,  53, ...,  78, 182, 205],\n",
              "          [ 35,  61, 110, ..., 103, 186, 202]],\n",
              " \n",
              "         [[ 14,  83,  19, ...,  93, 200, 210],\n",
              "          [ 25,  73,  52, ...,  80, 199, 211],\n",
              "          [ 22,  64, 106, ..., 106, 201, 208]],\n",
              " \n",
              "         [[ 14,  74,  25, ..., 111, 218, 220],\n",
              "          [ 20,  69,  56, ...,  98, 217, 221],\n",
              "          [ 17,  59, 111, ..., 124, 218, 217]],\n",
              " \n",
              "         ...,\n",
              " \n",
              "         [[ 40,  89,  63, ..., 181, 227, 201],\n",
              "          [ 39,  82, 137, ..., 180, 228, 199],\n",
              "          [ 50,  64, 208, ..., 184, 223, 193]],\n",
              " \n",
              "         [[ 67,  88,  91, ..., 177, 227, 195],\n",
              "          [ 58,  79, 153, ..., 176, 226, 191],\n",
              "          [ 52,  70, 214, ..., 180, 222, 186]],\n",
              " \n",
              "         [[ 83,  88, 130, ..., 183, 228, 196],\n",
              "          [ 78,  81, 180, ..., 182, 224, 190],\n",
              "          [ 60,  67, 229, ..., 187, 221, 186]]],\n",
              " \n",
              " \n",
              "        [[[ 40,  83,  21, ...,  99, 171, 198],\n",
              "          [ 41,  76,  53, ...,  84, 170, 198],\n",
              "          [ 38,  60, 110, ..., 112, 175, 197]],\n",
              " \n",
              "         [[ 18,  78,  20, ...,  94, 189, 202],\n",
              "          [ 21,  77,  51, ...,  81, 189, 202],\n",
              "          [ 26,  58, 106, ..., 110, 193, 201]],\n",
              " \n",
              "         [[ 16,  61,  22, ..., 107, 213, 212],\n",
              "          [ 17,  50,  52, ...,  94, 213, 211],\n",
              "          [ 23,  54, 106, ..., 123, 215, 210]],\n",
              " \n",
              "         ...,\n",
              " \n",
              "         [[ 23,  90,  79, ..., 167, 231, 203],\n",
              "          [ 29,  85, 147, ..., 166, 230, 200],\n",
              "          [ 45,  63, 210, ..., 171, 226, 196]],\n",
              " \n",
              "         [[ 35,  88, 125, ..., 172, 229, 198],\n",
              "          [ 42,  83, 181, ..., 171, 226, 194],\n",
              "          [ 44,  66, 230, ..., 176, 223, 191]],\n",
              " \n",
              "         [[ 72,  85, 178, ..., 185, 227, 195],\n",
              "          [ 69,  82, 218, ..., 184, 223, 190],\n",
              "          [ 53,  70, 254, ..., 189, 220, 187]]],\n",
              " \n",
              " \n",
              "        ...,\n",
              " \n",
              " \n",
              "        [[[ 86, 100,  88, ...,  99, 187, 233],\n",
              "          [ 81,  98, 162, ...,  94, 185, 226],\n",
              "          [ 75,  72, 237, ..., 110, 186, 228]],\n",
              " \n",
              "         [[ 87,  98,  89, ...,  96, 204, 230],\n",
              "          [ 82,  94, 163, ...,  91, 202, 224],\n",
              "          [ 71,  76, 238, ..., 109, 199, 225]],\n",
              " \n",
              "         [[ 82,  95,  84, ..., 108, 217, 228],\n",
              "          [ 79,  93, 156, ..., 103, 217, 223],\n",
              "          [ 65,  73, 230, ..., 124, 210, 221]],\n",
              " \n",
              "         ...,\n",
              " \n",
              "         [[104, 104,  62, ..., 210, 204, 198],\n",
              "          [104, 104, 142, ..., 207, 200, 196],\n",
              "          [ 87,  86, 227, ..., 204, 195, 190]],\n",
              " \n",
              "         [[104, 102,  67, ..., 206, 196, 184],\n",
              "          [105, 102, 144, ..., 202, 193, 183],\n",
              "          [ 81,  87, 226, ..., 200, 189, 177]],\n",
              " \n",
              "         [[103, 100,  74, ..., 203, 196, 189],\n",
              "          [105, 101, 145, ..., 197, 193, 187],\n",
              "          [ 78,  78, 225, ..., 199, 189, 182]]],\n",
              " \n",
              " \n",
              "        [[[ 84, 103,  88, ...,  94, 186, 231],\n",
              "          [ 86, 104, 164, ...,  91, 184, 226],\n",
              "          [ 64,  79, 240, ..., 103, 185, 228]],\n",
              " \n",
              "         [[ 86, 106,  87, ...,  94, 198, 229],\n",
              "          [ 79, 104, 160, ...,  91, 197, 224],\n",
              "          [ 72,  79, 237, ..., 104, 194, 225]],\n",
              " \n",
              "         [[ 82, 103,  88, ..., 110, 211, 227],\n",
              "          [ 76, 103, 159, ..., 107, 211, 223],\n",
              "          [ 72,  87, 237, ..., 121, 204, 222]],\n",
              " \n",
              "         ...,\n",
              " \n",
              "         [[110, 103,  60, ..., 219, 222, 195],\n",
              "          [103, 104, 141, ..., 218, 216, 194],\n",
              "          [ 84,  86, 230, ..., 215, 212, 186]],\n",
              " \n",
              "         [[106, 103,  61, ..., 218, 214, 181],\n",
              "          [105, 103, 141, ..., 215, 209, 181],\n",
              "          [ 85,  87, 228, ..., 212, 205, 173]],\n",
              " \n",
              "         [[106, 105,  65, ..., 212, 208, 186],\n",
              "          [104,  99, 143, ..., 209, 205, 183],\n",
              "          [ 86,  81, 226, ..., 209, 200, 177]]],\n",
              " \n",
              " \n",
              "        [[[ 85, 103,  84, ...,  88, 190, 230],\n",
              "          [ 88, 106, 160, ...,  87, 188, 226],\n",
              "          [ 68,  82, 238, ...,  94, 190, 227]],\n",
              " \n",
              "         [[ 89, 103,  81, ...,  85, 199, 230],\n",
              "          [ 82, 105, 154, ...,  84, 197, 226],\n",
              "          [ 72,  87, 233, ...,  93, 194, 227]],\n",
              " \n",
              "         [[ 85, 104,  87, ..., 105, 208, 229],\n",
              "          [ 79, 106, 158, ..., 103, 208, 225],\n",
              "          [ 67,  91, 238, ..., 114, 201, 226]],\n",
              " \n",
              "         ...,\n",
              " \n",
              "         [[111, 113,  63, ..., 217, 232, 190],\n",
              "          [104, 103, 144, ..., 217, 227, 190],\n",
              "          [ 87,  88, 235, ..., 214, 223, 181]],\n",
              " \n",
              "         [[109, 104,  62, ..., 221, 226, 178],\n",
              "          [105, 104, 143, ..., 220, 221, 177],\n",
              "          [ 86,  88, 232, ..., 219, 216, 169]],\n",
              " \n",
              "         [[103, 103,  63, ..., 218, 218, 181],\n",
              "          [106,  98, 145, ..., 217, 213, 178],\n",
              "          [ 79,  80, 231, ..., 218, 209, 171]]]], dtype=uint8),\n",
              " 'y': array([[1],\n",
              "        [9],\n",
              "        [2],\n",
              "        ...,\n",
              "        [1],\n",
              "        [6],\n",
              "        [9]], dtype=uint8)}"
            ]
          },
          "execution_count": 5,
          "metadata": {},
          "output_type": "execute_result"
        }
      ],
      "source": [
        "data_train"
      ]
    },
    {
      "cell_type": "code",
      "execution_count": null,
      "metadata": {
        "colab": {
          "base_uri": "https://localhost:8080/"
        },
        "id": "xxXBuszYIQwH",
        "outputId": "fd26b7dc-3530-4a89-9547-2f2d8632386f"
      },
      "outputs": [
        {
          "data": {
            "text/plain": [
              "dict"
            ]
          },
          "execution_count": 6,
          "metadata": {},
          "output_type": "execute_result"
        }
      ],
      "source": [
        "type(data_train)"
      ]
    },
    {
      "cell_type": "code",
      "execution_count": null,
      "metadata": {
        "colab": {
          "base_uri": "https://localhost:8080/"
        },
        "id": "W0lap0bIIQwI",
        "outputId": "9bb4cf02-2ff8-485e-fab0-d7557b7e68b8"
      },
      "outputs": [
        {
          "data": {
            "text/plain": [
              "dict_keys(['__header__', '__version__', '__globals__', 'X', 'y'])"
            ]
          },
          "execution_count": 7,
          "metadata": {},
          "output_type": "execute_result"
        }
      ],
      "source": [
        "# Every dictionary has 3 attributes: .items(), .keys(), .values()\n",
        "data_train.keys()"
      ]
    },
    {
      "cell_type": "code",
      "execution_count": null,
      "metadata": {
        "colab": {
          "base_uri": "https://localhost:8080/"
        },
        "id": "LPRMOuWfIQwK",
        "outputId": "d403824c-377d-428f-c064-4d715b57518a"
      },
      "outputs": [
        {
          "data": {
            "text/plain": [
              "dict_keys(['__header__', '__version__', '__globals__', 'X', 'y'])"
            ]
          },
          "execution_count": 8,
          "metadata": {},
          "output_type": "execute_result"
        }
      ],
      "source": [
        "data_test.keys()"
      ]
    },
    {
      "cell_type": "code",
      "execution_count": null,
      "metadata": {
        "id": "ZuIgwPM7IQwL"
      },
      "outputs": [],
      "source": [
        "X_train = data_train['X']\n",
        "X_test = data_test['X']\n",
        "\n",
        "y_train = data_train['y']\n",
        "y_test = data_test['y']\n"
      ]
    },
    {
      "cell_type": "code",
      "execution_count": null,
      "metadata": {
        "colab": {
          "base_uri": "https://localhost:8080/"
        },
        "id": "pR6yUMiDIQwL",
        "outputId": "fc9ba6f1-9543-4f99-a66f-42c77773dce2"
      },
      "outputs": [
        {
          "data": {
            "text/plain": [
              "numpy.ndarray"
            ]
          },
          "execution_count": 10,
          "metadata": {},
          "output_type": "execute_result"
        }
      ],
      "source": [
        "type(X_train)"
      ]
    },
    {
      "cell_type": "code",
      "execution_count": null,
      "metadata": {
        "colab": {
          "base_uri": "https://localhost:8080/"
        },
        "id": "KPU-M6FpIQwM",
        "outputId": "3b9a00e8-7760-42c4-b799-9d9fc5c86027"
      },
      "outputs": [
        {
          "data": {
            "text/plain": [
              "(32, 32, 3, 73257)"
            ]
          },
          "execution_count": 11,
          "metadata": {},
          "output_type": "execute_result"
        }
      ],
      "source": [
        "X_train.shape"
      ]
    },
    {
      "cell_type": "code",
      "execution_count": null,
      "metadata": {
        "colab": {
          "base_uri": "https://localhost:8080/",
          "height": 560
        },
        "id": "5hW1MCfZIQwO",
        "outputId": "7da7efe0-104c-4e28-9a37-0105fbad7139"
      },
      "outputs": [
        {
          "data": {
            "image/png": "[encoded data removed]",
            "text/plain": [
              "<Figure size 1200x600 with 10 Axes>"
            ]
          },
          "metadata": {},
          "output_type": "display_data"
        }
      ],
      "source": [
        "fig, axes = plt.subplots(2, 5, figsize=(12,6))\n",
        "axes = axes.ravel() #flatten axes for easy indexing\n",
        "\n",
        "for i in range(10):\n",
        "\n",
        "    img = X_train[:, :, :, i]\n",
        "\n",
        "    axes[i].imshow(img)\n",
        "    axes[i].set_title(f\"Label #{y_train[i]}\")\n",
        "    axes[i].axis(\"off\") # remove ticks from axis\n",
        "\n",
        "plt.tight_layout()\n",
        "plt.show()"
      ]
    },
    {
      "cell_type": "code",
      "execution_count": null,
      "metadata": {
        "id": "e19gy598IQwP"
      },
      "outputs": [],
      "source": [
        "# Trun the previous code into function\n",
        "def image_vis(X, y):\n",
        "    fig, axes = plt.subplots(2, 5, figsize=(12,6))\n",
        "    axes = axes.ravel() #flatten axes for easy indexing\n",
        "\n",
        "    for i in range(10):\n",
        "\n",
        "        img = X[:, :, :, i]\n",
        "\n",
        "        axes[i].imshow(img)\n",
        "        axes[i].set_title(f\"Label #{y[i]}\")\n",
        "        axes[i].axis(\"off\") # remove ticks from axis\n",
        "\n",
        "    plt.tight_layout()\n",
        "    plt.show()"
      ]
    },
    {
      "cell_type": "code",
      "execution_count": null,
      "metadata": {
        "colab": {
          "base_uri": "https://localhost:8080/",
          "height": 560
        },
        "id": "EeT90pj0IQwP",
        "outputId": "f5e1ddc9-3a91-4430-aec1-30512f556ce7"
      },
      "outputs": [
        {
          "data": {
            "image/png": "[encoded data removed]",
            "text/plain": [
              "<Figure size 1200x600 with 10 Axes>"
            ]
          },
          "metadata": {},
          "output_type": "display_data"
        }
      ],
      "source": [
        "image_vis(X_test, y_test)"
      ]
    },
    {
      "cell_type": "code",
      "execution_count": null,
      "metadata": {
        "colab": {
          "base_uri": "https://localhost:8080/"
        },
        "id": "SStfRLPdIQwQ",
        "outputId": "00da01fa-5c95-4a95-cb2d-e5fa850e3bad"
      },
      "outputs": [
        {
          "data": {
            "text/plain": [
              "(array([ 1,  2,  3,  4,  5,  6,  7,  8,  9, 10], dtype=uint8),\n",
              " array([13861, 10585,  8497,  7458,  6882,  5727,  5595,  5045,  4659,\n",
              "         4948]))"
            ]
          },
          "execution_count": 15,
          "metadata": {},
          "output_type": "execute_result"
        }
      ],
      "source": [
        "# check the y distribution to see if dataset is imbalanced\n",
        "\n",
        "np.unique(y_train, return_counts=True)"
      ]
    },
    {
      "cell_type": "code",
      "execution_count": null,
      "metadata": {
        "colab": {
          "base_uri": "https://localhost:8080/"
        },
        "id": "KnRCEeBmIQwR",
        "outputId": "bbf3ac11-d975-4a75-eab9-e014331cba5c"
      },
      "outputs": [
        {
          "data": {
            "text/plain": [
              "{1: 13861,\n",
              " 2: 10585,\n",
              " 3: 8497,\n",
              " 4: 7458,\n",
              " 5: 6882,\n",
              " 6: 5727,\n",
              " 7: 5595,\n",
              " 8: 5045,\n",
              " 9: 4659,\n",
              " 10: 4948}"
            ]
          },
          "execution_count": 16,
          "metadata": {},
          "output_type": "execute_result"
        }
      ],
      "source": [
        "unique_labels, counts = np.unique(y_train, return_counts=True)\n",
        "train_label_dist =  dict(zip(unique_labels, counts))\n",
        "train_label_dist"
      ]
    },
    {
      "cell_type": "code",
      "execution_count": null,
      "metadata": {
        "id": "gTahu7OMIQwS"
      },
      "outputs": [],
      "source": [
        "# Turn the previous code  to function\n",
        "def label_dist(y):\n",
        "    unique_labels, counts = np.unique(y_train, return_counts=True)\n",
        "    return dict(zip(unique_labels, counts))"
      ]
    },
    {
      "cell_type": "code",
      "execution_count": null,
      "metadata": {
        "id": "W2G4T-L7IQwS"
      },
      "outputs": [],
      "source": [
        "train_dist = label_dist(y_train)\n",
        "test_dist = label_dist(y_test)"
      ]
    },
    {
      "cell_type": "code",
      "execution_count": null,
      "metadata": {
        "colab": {
          "base_uri": "https://localhost:8080/",
          "height": 545
        },
        "id": "cMX2Lo_lIQwS",
        "outputId": "c948a594-4944-414b-a099-8d2933177bce"
      },
      "outputs": [
        {
          "data": {
            "image/png": "[encoded data removed]",
            "text/plain": [
              "<Figure size 1500x600 with 2 Axes>"
            ]
          },
          "metadata": {},
          "output_type": "display_data"
        }
      ],
      "source": [
        "plt.figure(figsize=(15,6))\n",
        "plt.subplot(1, 2, 1)\n",
        "plt.bar(train_dist.keys(), train_dist.values())\n",
        "plt.title(\"train dist\")\n",
        "plt.subplot(1, 2, 2)\n",
        "plt.bar(test_dist.keys(), test_dist.values())\n",
        "plt.title(\"test dist\")\n",
        "plt.show()"
      ]
    },
    {
      "cell_type": "markdown",
      "metadata": {
        "id": "DDnetEiDJX0D"
      },
      "source": [
        "## Preprocessing"
      ]
    },
    {
      "cell_type": "code",
      "execution_count": null,
      "metadata": {
        "colab": {
          "base_uri": "https://localhost:8080/"
        },
        "id": "asN4ooOgIQwU",
        "outputId": "90c27323-72aa-44e1-f39b-5dec553aae42"
      },
      "outputs": [
        {
          "data": {
            "text/plain": [
              "(0, 255)"
            ]
          },
          "execution_count": 20,
          "metadata": {},
          "output_type": "execute_result"
        }
      ],
      "source": [
        "X_train.min(), X_train.max()"
      ]
    },
    {
      "cell_type": "markdown",
      "metadata": {
        "id": "G8cJ73W4JpRE"
      },
      "source": [
        "### Normalization"
      ]
    },
    {
      "cell_type": "code",
      "execution_count": null,
      "metadata": {
        "id": "QUYxIjRNJl19"
      },
      "outputs": [],
      "source": [
        "def normalizer(X):\n",
        "    X = X / 255\n",
        "    return X"
      ]
    },
    {
      "cell_type": "code",
      "execution_count": null,
      "metadata": {
        "id": "NZD6aU8hJl-q"
      },
      "outputs": [],
      "source": [
        "X_train_norm = normalizer(X_train)\n",
        "X_test_norm = normalizer(X_test)"
      ]
    },
    {
      "cell_type": "code",
      "execution_count": null,
      "metadata": {
        "colab": {
          "base_uri": "https://localhost:8080/"
        },
        "id": "AJlJV5GfJvBg",
        "outputId": "b5ac6754-ba8a-49ab-cafb-22189e1a97b5"
      },
      "outputs": [
        {
          "data": {
            "text/plain": [
              "array([[[[0.12941176, 0.32941176, 0.0745098 , ..., 0.36078431,\n",
              "          0.74509804, 0.84705882],\n",
              "         [0.11764706, 0.29803922, 0.21176471, ..., 0.30588235,\n",
              "          0.7372549 , 0.85098039],\n",
              "         [0.14901961, 0.23137255, 0.43137255, ..., 0.39607843,\n",
              "          0.74901961, 0.83137255]],\n",
              "\n",
              "        [[0.05882353, 0.3372549 , 0.07843137, ..., 0.36862745,\n",
              "          0.80392157, 0.86666667],\n",
              "         [0.09019608, 0.28627451, 0.20392157, ..., 0.32156863,\n",
              "          0.79607843, 0.87058824],\n",
              "         [0.0745098 , 0.25882353, 0.43529412, ..., 0.41176471,\n",
              "          0.80784314, 0.85098039]],\n",
              "\n",
              "        [[0.05882353, 0.30196078, 0.09803922, ..., 0.44705882,\n",
              "          0.8627451 , 0.88627451],\n",
              "         [0.06666667, 0.30588235, 0.22352941, ..., 0.39607843,\n",
              "          0.85490196, 0.89019608],\n",
              "         [0.0745098 , 0.21960784, 0.45490196, ..., 0.49019608,\n",
              "          0.8627451 , 0.86666667]],\n",
              "\n",
              "        ...,\n",
              "\n",
              "        [[0.28235294, 0.35294118, 0.25490196, ..., 0.78431373,\n",
              "          0.89803922, 0.78431373],\n",
              "         [0.25490196, 0.30588235, 0.56470588, ..., 0.78823529,\n",
              "          0.90588235, 0.78039216],\n",
              "         [0.21960784, 0.27058824, 0.8745098 , ..., 0.79607843,\n",
              "          0.87843137, 0.74901961]],\n",
              "\n",
              "        [[0.32156863, 0.34509804, 0.30588235, ..., 0.75294118,\n",
              "          0.89803922, 0.75686275],\n",
              "         [0.30196078, 0.30196078, 0.58039216, ..., 0.75686275,\n",
              "          0.89803922, 0.7372549 ],\n",
              "         [0.22352941, 0.2627451 , 0.85490196, ..., 0.76470588,\n",
              "          0.87843137, 0.71372549]],\n",
              "\n",
              "        [[0.34901961, 0.34509804, 0.38431373, ..., 0.74509804,\n",
              "          0.89803922, 0.77254902],\n",
              "         [0.30980392, 0.30588235, 0.61960784, ..., 0.74901961,\n",
              "          0.89411765, 0.74117647],\n",
              "         [0.23137255, 0.25882353, 0.8627451 , ..., 0.75686275,\n",
              "          0.8745098 , 0.72941176]]],\n",
              "\n",
              "\n",
              "       [[[0.10980392, 0.33333333, 0.08235294, ..., 0.36078431,\n",
              "          0.71764706, 0.8       ],\n",
              "         [0.15294118, 0.30196078, 0.20784314, ..., 0.30588235,\n",
              "          0.71372549, 0.80392157],\n",
              "         [0.1372549 , 0.23921569, 0.43137255, ..., 0.40392157,\n",
              "          0.72941176, 0.79215686]],\n",
              "\n",
              "        [[0.05490196, 0.3254902 , 0.0745098 , ..., 0.36470588,\n",
              "          0.78431373, 0.82352941],\n",
              "         [0.09803922, 0.28627451, 0.20392157, ..., 0.31372549,\n",
              "          0.78039216, 0.82745098],\n",
              "         [0.08627451, 0.25098039, 0.41568627, ..., 0.41568627,\n",
              "          0.78823529, 0.81568627]],\n",
              "\n",
              "        [[0.05490196, 0.29019608, 0.09803922, ..., 0.43529412,\n",
              "          0.85490196, 0.8627451 ],\n",
              "         [0.07843137, 0.27058824, 0.21960784, ..., 0.38431373,\n",
              "          0.85098039, 0.86666667],\n",
              "         [0.06666667, 0.23137255, 0.43529412, ..., 0.48627451,\n",
              "          0.85490196, 0.85098039]],\n",
              "\n",
              "        ...,\n",
              "\n",
              "        [[0.15686275, 0.34901961, 0.24705882, ..., 0.70980392,\n",
              "          0.89019608, 0.78823529],\n",
              "         [0.15294118, 0.32156863, 0.5372549 , ..., 0.70588235,\n",
              "          0.89411765, 0.78039216],\n",
              "         [0.19607843, 0.25098039, 0.81568627, ..., 0.72156863,\n",
              "          0.8745098 , 0.75686275]],\n",
              "\n",
              "        [[0.2627451 , 0.34509804, 0.35686275, ..., 0.69411765,\n",
              "          0.89019608, 0.76470588],\n",
              "         [0.22745098, 0.30980392, 0.6       , ..., 0.69019608,\n",
              "          0.88627451, 0.74901961],\n",
              "         [0.20392157, 0.2745098 , 0.83921569, ..., 0.70588235,\n",
              "          0.87058824, 0.72941176]],\n",
              "\n",
              "        [[0.3254902 , 0.34509804, 0.50980392, ..., 0.71764706,\n",
              "          0.89411765, 0.76862745],\n",
              "         [0.30588235, 0.31764706, 0.70588235, ..., 0.71372549,\n",
              "          0.87843137, 0.74509804],\n",
              "         [0.23529412, 0.2627451 , 0.89803922, ..., 0.73333333,\n",
              "          0.86666667, 0.72941176]]],\n",
              "\n",
              "\n",
              "       [[[0.15686275, 0.3254902 , 0.08235294, ..., 0.38823529,\n",
              "          0.67058824, 0.77647059],\n",
              "         [0.16078431, 0.29803922, 0.20784314, ..., 0.32941176,\n",
              "          0.66666667, 0.77647059],\n",
              "         [0.14901961, 0.23529412, 0.43137255, ..., 0.43921569,\n",
              "          0.68627451, 0.77254902]],\n",
              "\n",
              "        [[0.07058824, 0.30588235, 0.07843137, ..., 0.36862745,\n",
              "          0.74117647, 0.79215686],\n",
              "         [0.08235294, 0.30196078, 0.2       , ..., 0.31764706,\n",
              "          0.74117647, 0.79215686],\n",
              "         [0.10196078, 0.22745098, 0.41568627, ..., 0.43137255,\n",
              "          0.75686275, 0.78823529]],\n",
              "\n",
              "        [[0.0627451 , 0.23921569, 0.08627451, ..., 0.41960784,\n",
              "          0.83529412, 0.83137255],\n",
              "         [0.06666667, 0.19607843, 0.20392157, ..., 0.36862745,\n",
              "          0.83529412, 0.82745098],\n",
              "         [0.09019608, 0.21176471, 0.41568627, ..., 0.48235294,\n",
              "          0.84313725, 0.82352941]],\n",
              "\n",
              "        ...,\n",
              "\n",
              "        [[0.09019608, 0.35294118, 0.30980392, ..., 0.65490196,\n",
              "          0.90588235, 0.79607843],\n",
              "         [0.11372549, 0.33333333, 0.57647059, ..., 0.65098039,\n",
              "          0.90196078, 0.78431373],\n",
              "         [0.17647059, 0.24705882, 0.82352941, ..., 0.67058824,\n",
              "          0.88627451, 0.76862745]],\n",
              "\n",
              "        [[0.1372549 , 0.34509804, 0.49019608, ..., 0.6745098 ,\n",
              "          0.89803922, 0.77647059],\n",
              "         [0.16470588, 0.3254902 , 0.70980392, ..., 0.67058824,\n",
              "          0.88627451, 0.76078431],\n",
              "         [0.17254902, 0.25882353, 0.90196078, ..., 0.69019608,\n",
              "          0.8745098 , 0.74901961]],\n",
              "\n",
              "        [[0.28235294, 0.33333333, 0.69803922, ..., 0.7254902 ,\n",
              "          0.89019608, 0.76470588],\n",
              "         [0.27058824, 0.32156863, 0.85490196, ..., 0.72156863,\n",
              "          0.8745098 , 0.74509804],\n",
              "         [0.20784314, 0.2745098 , 0.99607843, ..., 0.74117647,\n",
              "          0.8627451 , 0.73333333]]],\n",
              "\n",
              "\n",
              "       ...,\n",
              "\n",
              "\n",
              "       [[[0.3372549 , 0.39215686, 0.34509804, ..., 0.38823529,\n",
              "          0.73333333, 0.91372549],\n",
              "         [0.31764706, 0.38431373, 0.63529412, ..., 0.36862745,\n",
              "          0.7254902 , 0.88627451],\n",
              "         [0.29411765, 0.28235294, 0.92941176, ..., 0.43137255,\n",
              "          0.72941176, 0.89411765]],\n",
              "\n",
              "        [[0.34117647, 0.38431373, 0.34901961, ..., 0.37647059,\n",
              "          0.8       , 0.90196078],\n",
              "         [0.32156863, 0.36862745, 0.63921569, ..., 0.35686275,\n",
              "          0.79215686, 0.87843137],\n",
              "         [0.27843137, 0.29803922, 0.93333333, ..., 0.42745098,\n",
              "          0.78039216, 0.88235294]],\n",
              "\n",
              "        [[0.32156863, 0.37254902, 0.32941176, ..., 0.42352941,\n",
              "          0.85098039, 0.89411765],\n",
              "         [0.30980392, 0.36470588, 0.61176471, ..., 0.40392157,\n",
              "          0.85098039, 0.8745098 ],\n",
              "         [0.25490196, 0.28627451, 0.90196078, ..., 0.48627451,\n",
              "          0.82352941, 0.86666667]],\n",
              "\n",
              "        ...,\n",
              "\n",
              "        [[0.40784314, 0.40784314, 0.24313725, ..., 0.82352941,\n",
              "          0.8       , 0.77647059],\n",
              "         [0.40784314, 0.40784314, 0.55686275, ..., 0.81176471,\n",
              "          0.78431373, 0.76862745],\n",
              "         [0.34117647, 0.3372549 , 0.89019608, ..., 0.8       ,\n",
              "          0.76470588, 0.74509804]],\n",
              "\n",
              "        [[0.40784314, 0.4       , 0.2627451 , ..., 0.80784314,\n",
              "          0.76862745, 0.72156863],\n",
              "         [0.41176471, 0.4       , 0.56470588, ..., 0.79215686,\n",
              "          0.75686275, 0.71764706],\n",
              "         [0.31764706, 0.34117647, 0.88627451, ..., 0.78431373,\n",
              "          0.74117647, 0.69411765]],\n",
              "\n",
              "        [[0.40392157, 0.39215686, 0.29019608, ..., 0.79607843,\n",
              "          0.76862745, 0.74117647],\n",
              "         [0.41176471, 0.39607843, 0.56862745, ..., 0.77254902,\n",
              "          0.75686275, 0.73333333],\n",
              "         [0.30588235, 0.30588235, 0.88235294, ..., 0.78039216,\n",
              "          0.74117647, 0.71372549]]],\n",
              "\n",
              "\n",
              "       [[[0.32941176, 0.40392157, 0.34509804, ..., 0.36862745,\n",
              "          0.72941176, 0.90588235],\n",
              "         [0.3372549 , 0.40784314, 0.64313725, ..., 0.35686275,\n",
              "          0.72156863, 0.88627451],\n",
              "         [0.25098039, 0.30980392, 0.94117647, ..., 0.40392157,\n",
              "          0.7254902 , 0.89411765]],\n",
              "\n",
              "        [[0.3372549 , 0.41568627, 0.34117647, ..., 0.36862745,\n",
              "          0.77647059, 0.89803922],\n",
              "         [0.30980392, 0.40784314, 0.62745098, ..., 0.35686275,\n",
              "          0.77254902, 0.87843137],\n",
              "         [0.28235294, 0.30980392, 0.92941176, ..., 0.40784314,\n",
              "          0.76078431, 0.88235294]],\n",
              "\n",
              "        [[0.32156863, 0.40392157, 0.34509804, ..., 0.43137255,\n",
              "          0.82745098, 0.89019608],\n",
              "         [0.29803922, 0.40392157, 0.62352941, ..., 0.41960784,\n",
              "          0.82745098, 0.8745098 ],\n",
              "         [0.28235294, 0.34117647, 0.92941176, ..., 0.4745098 ,\n",
              "          0.8       , 0.87058824]],\n",
              "\n",
              "        ...,\n",
              "\n",
              "        [[0.43137255, 0.40392157, 0.23529412, ..., 0.85882353,\n",
              "          0.87058824, 0.76470588],\n",
              "         [0.40392157, 0.40784314, 0.55294118, ..., 0.85490196,\n",
              "          0.84705882, 0.76078431],\n",
              "         [0.32941176, 0.3372549 , 0.90196078, ..., 0.84313725,\n",
              "          0.83137255, 0.72941176]],\n",
              "\n",
              "        [[0.41568627, 0.40392157, 0.23921569, ..., 0.85490196,\n",
              "          0.83921569, 0.70980392],\n",
              "         [0.41176471, 0.40392157, 0.55294118, ..., 0.84313725,\n",
              "          0.81960784, 0.70980392],\n",
              "         [0.33333333, 0.34117647, 0.89411765, ..., 0.83137255,\n",
              "          0.80392157, 0.67843137]],\n",
              "\n",
              "        [[0.41568627, 0.41176471, 0.25490196, ..., 0.83137255,\n",
              "          0.81568627, 0.72941176],\n",
              "         [0.40784314, 0.38823529, 0.56078431, ..., 0.81960784,\n",
              "          0.80392157, 0.71764706],\n",
              "         [0.3372549 , 0.31764706, 0.88627451, ..., 0.81960784,\n",
              "          0.78431373, 0.69411765]]],\n",
              "\n",
              "\n",
              "       [[[0.33333333, 0.40392157, 0.32941176, ..., 0.34509804,\n",
              "          0.74509804, 0.90196078],\n",
              "         [0.34509804, 0.41568627, 0.62745098, ..., 0.34117647,\n",
              "          0.7372549 , 0.88627451],\n",
              "         [0.26666667, 0.32156863, 0.93333333, ..., 0.36862745,\n",
              "          0.74509804, 0.89019608]],\n",
              "\n",
              "        [[0.34901961, 0.40392157, 0.31764706, ..., 0.33333333,\n",
              "          0.78039216, 0.90196078],\n",
              "         [0.32156863, 0.41176471, 0.60392157, ..., 0.32941176,\n",
              "          0.77254902, 0.88627451],\n",
              "         [0.28235294, 0.34117647, 0.91372549, ..., 0.36470588,\n",
              "          0.76078431, 0.89019608]],\n",
              "\n",
              "        [[0.33333333, 0.40784314, 0.34117647, ..., 0.41176471,\n",
              "          0.81568627, 0.89803922],\n",
              "         [0.30980392, 0.41568627, 0.61960784, ..., 0.40392157,\n",
              "          0.81568627, 0.88235294],\n",
              "         [0.2627451 , 0.35686275, 0.93333333, ..., 0.44705882,\n",
              "          0.78823529, 0.88627451]],\n",
              "\n",
              "        ...,\n",
              "\n",
              "        [[0.43529412, 0.44313725, 0.24705882, ..., 0.85098039,\n",
              "          0.90980392, 0.74509804],\n",
              "         [0.40784314, 0.40392157, 0.56470588, ..., 0.85098039,\n",
              "          0.89019608, 0.74509804],\n",
              "         [0.34117647, 0.34509804, 0.92156863, ..., 0.83921569,\n",
              "          0.8745098 , 0.70980392]],\n",
              "\n",
              "        [[0.42745098, 0.40784314, 0.24313725, ..., 0.86666667,\n",
              "          0.88627451, 0.69803922],\n",
              "         [0.41176471, 0.40784314, 0.56078431, ..., 0.8627451 ,\n",
              "          0.86666667, 0.69411765],\n",
              "         [0.3372549 , 0.34509804, 0.90980392, ..., 0.85882353,\n",
              "          0.84705882, 0.6627451 ]],\n",
              "\n",
              "        [[0.40392157, 0.40392157, 0.24705882, ..., 0.85490196,\n",
              "          0.85490196, 0.70980392],\n",
              "         [0.41568627, 0.38431373, 0.56862745, ..., 0.85098039,\n",
              "          0.83529412, 0.69803922],\n",
              "         [0.30980392, 0.31372549, 0.90588235, ..., 0.85490196,\n",
              "          0.81960784, 0.67058824]]]])"
            ]
          },
          "execution_count": 23,
          "metadata": {},
          "output_type": "execute_result"
        }
      ],
      "source": [
        "X_train_norm"
      ]
    },
    {
      "cell_type": "code",
      "execution_count": null,
      "metadata": {
        "colab": {
          "base_uri": "https://localhost:8080/"
        },
        "id": "gHmC2QFxJxwv",
        "outputId": "1c0672a4-c4d1-46d9-9ee4-c284f460cda2"
      },
      "outputs": [
        {
          "data": {
            "text/plain": [
              "(32, 32, 3, 73257)"
            ]
          },
          "execution_count": 24,
          "metadata": {},
          "output_type": "execute_result"
        }
      ],
      "source": [
        "np.shape(X_train_norm)"
      ]
    },
    {
      "cell_type": "code",
      "execution_count": null,
      "metadata": {
        "id": "AqfkBBN7J2Z9"
      },
      "outputs": [],
      "source": [
        "# gray_scale\n",
        "def convert_gray(X):\n",
        "    return np.mean(X, axis=2, keepdims=True)"
      ]
    },
    {
      "cell_type": "code",
      "execution_count": null,
      "metadata": {
        "id": "k_j7jKAUJ4o5"
      },
      "outputs": [],
      "source": [
        "X_train_norm_gray = convert_gray(X_train_norm)\n",
        "X_test_norm_gray = convert_gray(X_test_norm)"
      ]
    },
    {
      "cell_type": "code",
      "execution_count": null,
      "metadata": {
        "colab": {
          "base_uri": "https://localhost:8080/"
        },
        "id": "EAJCt31zKg_r",
        "outputId": "e89715a0-d1a2-4e61-cf68-bbaee0e65dcd"
      },
      "outputs": [
        {
          "data": {
            "text/plain": [
              "((32, 32, 1, 73257), (32, 32, 1, 26032))"
            ]
          },
          "execution_count": 27,
          "metadata": {},
          "output_type": "execute_result"
        }
      ],
      "source": [
        "X_train_norm_gray.shape, X_test_norm_gray.shape"
      ]
    },
    {
      "cell_type": "code",
      "execution_count": null,
      "metadata": {
        "colab": {
          "base_uri": "https://localhost:8080/",
          "height": 560
        },
        "id": "xFSWVtGmKoVK",
        "outputId": "f4bdf381-e16a-4efd-d2a9-790e50b48041"
      },
      "outputs": [
        {
          "data": {
            "image/png": "[encoded data removed]",
            "text/plain": [
              "<Figure size 1200x600 with 10 Axes>"
            ]
          },
          "metadata": {},
          "output_type": "display_data"
        }
      ],
      "source": [
        "image_vis(X_train_norm_gray, y_train)"
      ]
    },
    {
      "cell_type": "code",
      "execution_count": null,
      "metadata": {
        "id": "UdXiCzWYMBK7"
      },
      "outputs": [],
      "source": [
        "# Reshape to prepare inputs\n",
        "def reshape(X):\n",
        "  return X.transpose(3, 0, 1, 2).reshape(X.shape[3], -1)"
      ]
    },
    {
      "cell_type": "code",
      "execution_count": null,
      "metadata": {
        "id": "fQTf2pmsMs33"
      },
      "outputs": [],
      "source": [
        "X_tr = reshape(X_train_norm_gray)\n",
        "X_ts = reshape(X_test_norm_gray)"
      ]
    },
    {
      "cell_type": "code",
      "execution_count": null,
      "metadata": {
        "colab": {
          "base_uri": "https://localhost:8080/"
        },
        "id": "8o8uDIJ0M9vs",
        "outputId": "9c5d71b9-08a6-4e7f-8142-143d53b8ac2d"
      },
      "outputs": [
        {
          "data": {
            "text/plain": [
              "((73257, 1024), (26032, 1024))"
            ]
          },
          "execution_count": 31,
          "metadata": {},
          "output_type": "execute_result"
        }
      ],
      "source": [
        "X_tr.shape, X_ts.shape"
      ]
    },
    {
      "cell_type": "code",
      "execution_count": null,
      "metadata": {
        "id": "VZuqmFEBNA_2"
      },
      "outputs": [],
      "source": [
        "X_tr_rgb = reshape(X_train_norm)\n",
        "X_ts_rgb = reshape(X_test_norm)"
      ]
    },
    {
      "cell_type": "code",
      "execution_count": null,
      "metadata": {
        "colab": {
          "base_uri": "https://localhost:8080/"
        },
        "id": "WVEdSagkN2jN",
        "outputId": "a6e9a7b7-b48d-4331-84cd-c5e17366770b"
      },
      "outputs": [
        {
          "data": {
            "text/plain": [
              "((73257, 3072), (26032, 3072))"
            ]
          },
          "execution_count": 33,
          "metadata": {},
          "output_type": "execute_result"
        }
      ],
      "source": [
        "X_tr_rgb.shape, X_ts_rgb.shape"
      ]
    },
    {
      "cell_type": "markdown",
      "metadata": {
        "id": "tzzIFNIQOBiU"
      },
      "source": [
        "## Training"
      ]
    },
    {
      "cell_type": "code",
      "execution_count": null,
      "metadata": {
        "colab": {
          "base_uri": "https://localhost:8080/",
          "height": 129
        },
        "id": "RsDP6EzuN6IQ",
        "outputId": "8f926150-5bb4-4632-e2df-b89920973d14"
      },
      "outputs": [
        {
          "name": "stderr",
          "output_type": "stream",
          "text": [
            "<ipython-input-34-1bf58251ec06>:4: DataConversionWarning: A column-vector y was passed when a 1d array was expected. Please change the shape of y to (n_samples,), for example using ravel().\n",
            "  rf_clf.fit(X_tr, y_train)\n"
          ]
        },
        {
          "data": {
            "text/html": [
              "<style>#sk-container-id-1 {color: black;background-color: white;}#sk-container-id-1 pre{padding: 0;}#sk-container-id-1 div.sk-toggleable {background-color: white;}#sk-container-id-1 label.sk-toggleable__label {cursor: pointer;display: block;width: 100%;margin-bottom: 0;padding: 0.3em;box-sizing: border-box;text-align: center;}#sk-container-id-1 label.sk-toggleable__label-arrow:before {content: \"▸\";float: left;margin-right: 0.25em;color: #696969;}#sk-container-id-1 label.sk-toggleable__label-arrow:hover:before {color: black;}#sk-container-id-1 div.sk-estimator:hover label.sk-toggleable__label-arrow:before {color: black;}#sk-container-id-1 div.sk-toggleable__content {max-height: 0;max-width: 0;overflow: hidden;text-align: left;background-color: #f0f8ff;}#sk-container-id-1 div.sk-toggleable__content pre {margin: 0.2em;color: black;border-radius: 0.25em;background-color: #f0f8ff;}#sk-container-id-1 input.sk-toggleable__control:checked~div.sk-toggleable__content {max-height: 200px;max-width: 100%;overflow: auto;}#sk-container-id-1 input.sk-toggleable__control:checked~label.sk-toggleable__label-arrow:before {content: \"▾\";}#sk-container-id-1 div.sk-estimator input.sk-toggleable__control:checked~label.sk-toggleable__label {background-color: #d4ebff;}#sk-container-id-1 div.sk-label input.sk-toggleable__control:checked~label.sk-toggleable__label {background-color: #d4ebff;}#sk-container-id-1 input.sk-hidden--visually {border: 0;clip: rect(1px 1px 1px 1px);clip: rect(1px, 1px, 1px, 1px);height: 1px;margin: -1px;overflow: hidden;padding: 0;position: absolute;width: 1px;}#sk-container-id-1 div.sk-estimator {font-family: monospace;background-color: #f0f8ff;border: 1px dotted black;border-radius: 0.25em;box-sizing: border-box;margin-bottom: 0.5em;}#sk-container-id-1 div.sk-estimator:hover {background-color: #d4ebff;}#sk-container-id-1 div.sk-parallel-item::after {content: \"\";width: 100%;border-bottom: 1px solid gray;flex-grow: 1;}#sk-container-id-1 div.sk-label:hover label.sk-toggleable__label {background-color: #d4ebff;}#sk-container-id-1 div.sk-serial::before {content: \"\";position: absolute;border-left: 1px solid gray;box-sizing: border-box;top: 0;bottom: 0;left: 50%;z-index: 0;}#sk-container-id-1 div.sk-serial {display: flex;flex-direction: column;align-items: center;background-color: white;padding-right: 0.2em;padding-left: 0.2em;position: relative;}#sk-container-id-1 div.sk-item {position: relative;z-index: 1;}#sk-container-id-1 div.sk-parallel {display: flex;align-items: stretch;justify-content: center;background-color: white;position: relative;}#sk-container-id-1 div.sk-item::before, #sk-container-id-1 div.sk-parallel-item::before {content: \"\";position: absolute;border-left: 1px solid gray;box-sizing: border-box;top: 0;bottom: 0;left: 50%;z-index: -1;}#sk-container-id-1 div.sk-parallel-item {display: flex;flex-direction: column;z-index: 1;position: relative;background-color: white;}#sk-container-id-1 div.sk-parallel-item:first-child::after {align-self: flex-end;width: 50%;}#sk-container-id-1 div.sk-parallel-item:last-child::after {align-self: flex-start;width: 50%;}#sk-container-id-1 div.sk-parallel-item:only-child::after {width: 0;}#sk-container-id-1 div.sk-dashed-wrapped {border: 1px dashed gray;margin: 0 0.4em 0.5em 0.4em;box-sizing: border-box;padding-bottom: 0.4em;background-color: white;}#sk-container-id-1 div.sk-label label {font-family: monospace;font-weight: bold;display: inline-block;line-height: 1.2em;}#sk-container-id-1 div.sk-label-container {text-align: center;}#sk-container-id-1 div.sk-container {/* jupyter's `normalize.less` sets `[hidden] { display: none; }` but bootstrap.min.css set `[hidden] { display: none !important; }` so we also need the `!important` here to be able to override the default hidden behavior on the sphinx rendered scikit-learn.org. See: https://github.com/scikit-learn/scikit-learn/issues/21755 */display: inline-block !important;position: relative;}#sk-container-id-1 div.sk-text-repr-fallback {display: none;}</style><div id=\"sk-container-id-1\" class=\"sk-top-container\"><div class=\"sk-text-repr-fallback\"><pre>RandomForestClassifier(max_depth=20)</pre><b>In a Jupyter environment, please rerun this cell to show the HTML representation or trust the notebook. <br />On GitHub, the HTML representation is unable to render, please try loading this page with nbviewer.org.</b></div><div class=\"sk-container\" hidden><div class=\"sk-item\"><div class=\"sk-estimator sk-toggleable\"><input class=\"sk-toggleable__control sk-hidden--visually\" id=\"sk-estimator-id-1\" type=\"checkbox\" checked><label for=\"sk-estimator-id-1\" class=\"sk-toggleable__label sk-toggleable__label-arrow\">RandomForestClassifier</label><div class=\"sk-toggleable__content\"><pre>RandomForestClassifier(max_depth=20)</pre></div></div></div></div></div>"
            ],
            "text/plain": [
              "RandomForestClassifier(max_depth=20)"
            ]
          },
          "execution_count": 34,
          "metadata": {},
          "output_type": "execute_result"
        }
      ],
      "source": [
        "from sklearn.ensemble import RandomForestClassifier\n",
        "\n",
        "rf_clf = RandomForestClassifier(max_depth=20, n_estimators=100)\n",
        "rf_clf.fit(X_tr, y_train)"
      ]
    },
    {
      "cell_type": "code",
      "execution_count": null,
      "metadata": {
        "id": "CjgiDKdrOWy7"
      },
      "outputs": [],
      "source": [
        "y_pred = rf_clf.predict(X_ts)"
      ]
    },
    {
      "cell_type": "code",
      "execution_count": null,
      "metadata": {
        "colab": {
          "base_uri": "https://localhost:8080/"
        },
        "id": "QH9BKXMyRvqD",
        "outputId": "3a2ecc40-8820-48fe-9637-f4238e233b79"
      },
      "outputs": [
        {
          "data": {
            "text/plain": [
              "0.6915334972341733"
            ]
          },
          "execution_count": 36,
          "metadata": {},
          "output_type": "execute_result"
        }
      ],
      "source": [
        "from sklearn.metrics import accuracy_score\n",
        "\n",
        "accuracy_score(y_test, y_pred)"
      ]
    },
    {
      "cell_type": "code",
      "execution_count": null,
      "metadata": {
        "id": "if2XWhPIR2SP"
      },
      "outputs": [],
      "source": [
        "from sklearn.decomposition import PCA\n",
        "\n",
        "pca = PCA()\n",
        "X_tr_pca = pca.fit_transform(X_tr)\n",
        "X_ts_pca = pca.transform(X_ts)"
      ]
    },
    {
      "cell_type": "code",
      "execution_count": null,
      "metadata": {
        "colab": {
          "base_uri": "https://localhost:8080/"
        },
        "id": "Jata2RgBSQ-b",
        "outputId": "3edebd80-33ac-4fa5-8f8c-f017f5ba84e5"
      },
      "outputs": [
        {
          "data": {
            "text/plain": [
              "((73257, 1024), (26032, 1024))"
            ]
          },
          "execution_count": 38,
          "metadata": {},
          "output_type": "execute_result"
        }
      ],
      "source": [
        "X_tr_pca.shape, X_ts_pca.shape"
      ]
    },
    {
      "cell_type": "code",
      "execution_count": null,
      "metadata": {
        "colab": {
          "base_uri": "https://localhost:8080/"
        },
        "id": "JSu6jdgMSXCW",
        "outputId": "1b5c3173-bb42-44e8-a6f8-6f791fa2c9f5"
      },
      "outputs": [
        {
          "data": {
            "text/plain": [
              "array([-6.43644644e+00, -7.09953156e+00, -7.22449625e+00, ...,\n",
              "        7.14638317e-04, -7.14062503e-05,  1.68043445e-09])"
            ]
          },
          "execution_count": 39,
          "metadata": {},
          "output_type": "execute_result"
        }
      ],
      "source": [
        "# cumulative percentage of components' importance\n",
        "cum_variances = np.cumsum(X_tr_pca)\n",
        "cum_variances"
      ]
    },
    {
      "cell_type": "code",
      "execution_count": null,
      "metadata": {
        "id": "QAZ8fsXAS7de"
      },
      "outputs": [],
      "source": [
        "plt.plot(cum_variances)"
      ]
    },
    {
      "cell_type": "code",
      "execution_count": null,
      "metadata": {
        "id": "u22wkwvZTBqL"
      },
      "outputs": [],
      "source": []
    }
  ],
  "metadata": {
    "colab": {
      "provenance": []
    },
    "kernelspec": {
      "display_name": ".venv",
      "language": "python",
      "name": "python3"
    },
    "language_info": {
      "codemirror_mode": {
        "name": "ipython",
        "version": 3
      },
      "file_extension": ".py",
      "mimetype": "text/x-python",
      "name": "python",
      "nbconvert_exporter": "python",
      "pygments_lexer": "ipython3",
      "version": "3.10.5"
    }
  },
  "nbformat": 4,
  "nbformat_minor": 0
}
