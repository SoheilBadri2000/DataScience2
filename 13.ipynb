{
  "nbformat": 4,
  "nbformat_minor": 0,
  "metadata": {
    "colab": {
      "provenance": [],
      "authorship_tag": "ABX9TyML9s+sZLQEz7uor9bawkJs",
      "include_colab_link": true
    },
    "kernelspec": {
      "name": "python3",
      "display_name": "Python 3"
    },
    "language_info": {
      "name": "python"
    }
  },
  "cells": [
    {
      "cell_type": "markdown",
      "metadata": {
        "id": "view-in-github",
        "colab_type": "text"
      },
      "source": [
        "<a href=\"https://colab.research.google.com/github/SoheilBadri2000/DataScience2/blob/main/13.ipynb\" target=\"_parent\"><img src=\"https://colab.research.google.com/assets/colab-badge.svg\" alt=\"Open In Colab\"/></a>"
      ]
    },
    {
      "cell_type": "code",
      "execution_count": 79,
      "metadata": {
        "id": "5MlYkXbjsQNI"
      },
      "outputs": [],
      "source": [
        "import numpy as np\n",
        "from numpy.linalg import norm"
      ]
    },
    {
      "cell_type": "code",
      "source": [
        "u12 = np.array([5, 4, 2, 1])\n",
        "u21 = np.array([5, 3, 2, 1])\n",
        "\n",
        "u13 = np.array([5, 1, 4, 2, 1])\n",
        "u31 = np.array([1, 4, 2, 5, 4])"
      ],
      "metadata": {
        "id": "_nuYveAUsTtK"
      },
      "execution_count": 80,
      "outputs": []
    },
    {
      "cell_type": "code",
      "source": [
        "u12.dot(u21)"
      ],
      "metadata": {
        "colab": {
          "base_uri": "https://localhost:8080/"
        },
        "id": "kW2rDM-hsm9b",
        "outputId": "4237418b-6081-498e-e7c7-195778c5ab01"
      },
      "execution_count": 81,
      "outputs": [
        {
          "output_type": "execute_result",
          "data": {
            "text/plain": [
              "42"
            ]
          },
          "metadata": {},
          "execution_count": 81
        }
      ]
    },
    {
      "cell_type": "code",
      "source": [
        "norm(u12)"
      ],
      "metadata": {
        "colab": {
          "base_uri": "https://localhost:8080/"
        },
        "id": "b1Fpfzkpsol4",
        "outputId": "b3bb9a0b-a168-4e2e-ce62-b94a0c3b152f"
      },
      "execution_count": 82,
      "outputs": [
        {
          "output_type": "execute_result",
          "data": {
            "text/plain": [
              "6.782329983125268"
            ]
          },
          "metadata": {},
          "execution_count": 82
        }
      ]
    },
    {
      "cell_type": "code",
      "source": [
        "(u12.dot(u21)) / (norm(u12) * norm(u21))"
      ],
      "metadata": {
        "colab": {
          "base_uri": "https://localhost:8080/"
        },
        "id": "5dpiIL9js6t9",
        "outputId": "a3808107-8666-4abd-ad06-6b76139b369c"
      },
      "execution_count": 83,
      "outputs": [
        {
          "output_type": "execute_result",
          "data": {
            "text/plain": [
              "0.9916035457647598"
            ]
          },
          "metadata": {},
          "execution_count": 83
        }
      ]
    },
    {
      "cell_type": "code",
      "source": [
        "(u13.dot(u31)) /(norm(u13) * norm(u31))"
      ],
      "metadata": {
        "colab": {
          "base_uri": "https://localhost:8080/"
        },
        "id": "mGHPeqw4tEUK",
        "outputId": "2b7365e8-4319-4780-ffda-82ecb256c013"
      },
      "execution_count": 84,
      "outputs": [
        {
          "output_type": "execute_result",
          "data": {
            "text/plain": [
              "0.5742710457985438"
            ]
          },
          "metadata": {},
          "execution_count": 84
        }
      ]
    },
    {
      "cell_type": "code",
      "source": [
        "(0.99*2 + 0.57*5) / (0.99 + 0.57)"
      ],
      "metadata": {
        "colab": {
          "base_uri": "https://localhost:8080/"
        },
        "id": "fTkyawwMtQsM",
        "outputId": "b5428067-73a2-46aa-b23a-8f4f03faf7a7"
      },
      "execution_count": 85,
      "outputs": [
        {
          "output_type": "execute_result",
          "data": {
            "text/plain": [
              "3.0961538461538463"
            ]
          },
          "metadata": {},
          "execution_count": 85
        }
      ]
    },
    {
      "cell_type": "markdown",
      "source": [
        "# Collaborative Filtering"
      ],
      "metadata": {
        "id": "w69RkruWuCH2"
      }
    },
    {
      "cell_type": "code",
      "source": [
        "from scipy.sparse.linalg import svds\n",
        "import matplotlib.pyplot as plt"
      ],
      "metadata": {
        "id": "wwBAK_8luGBv"
      },
      "execution_count": 86,
      "outputs": []
    },
    {
      "cell_type": "code",
      "source": [
        "R = np.array([[5, 3, 0, 1],\n",
        "              [4, 0, 3, 1],\n",
        "              [1, 1, 0, 5],\n",
        "              [1, 0, 0, 4],\n",
        "              [0, 1, 5, 4]], dtype=float)\n",
        "\n",
        "U, sigma, Vt = svds(R, k=2)"
      ],
      "metadata": {
        "id": "rKpiVUfHyGgk"
      },
      "execution_count": 87,
      "outputs": []
    },
    {
      "cell_type": "code",
      "source": [
        "U"
      ],
      "metadata": {
        "colab": {
          "base_uri": "https://localhost:8080/"
        },
        "id": "TbE10H7nymrW",
        "outputId": "f7d1dd6e-dcbe-4fb4-ac0f-e56b8dbd2f9e"
      },
      "execution_count": 88,
      "outputs": [
        {
          "output_type": "execute_result",
          "data": {
            "text/plain": [
              "array([[-0.74320914, -0.40899704],\n",
              "       [-0.3442087 , -0.41930566],\n",
              "       [ 0.22495939, -0.46080121],\n",
              "       [ 0.18803495, -0.35858754],\n",
              "       [ 0.49314975, -0.56212224]])"
            ]
          },
          "metadata": {},
          "execution_count": 88
        }
      ]
    },
    {
      "cell_type": "code",
      "source": [
        "sigma"
      ],
      "metadata": {
        "colab": {
          "base_uri": "https://localhost:8080/"
        },
        "id": "0uv0g6nlynWC",
        "outputId": "9f401079-632f-44fb-e0f5-b12c5341e2e1"
      },
      "execution_count": 89,
      "outputs": [
        {
          "output_type": "execute_result",
          "data": {
            "text/plain": [
              "array([5.81972146, 9.41739755])"
            ]
          },
          "metadata": {},
          "execution_count": 89
        }
      ]
    },
    {
      "cell_type": "code",
      "source": [
        "Vt"
      ],
      "metadata": {
        "colab": {
          "base_uri": "https://localhost:8080/"
        },
        "id": "kxQ-LTnMyqJP",
        "outputId": "31d2cdec-b1a2-4b36-e23d-186439ba187f"
      },
      "execution_count": 90,
      "outputs": [
        {
          "output_type": "execute_result",
          "data": {
            "text/plain": [
              "array([[-0.80414264, -0.25972348,  0.24625279,  0.47461342],\n",
              "       [-0.48225601, -0.23891044, -0.43202256, -0.72367635]])"
            ]
          },
          "metadata": {},
          "execution_count": 90
        }
      ]
    },
    {
      "cell_type": "code",
      "source": [
        "sigma = np.diag(sigma)"
      ],
      "metadata": {
        "id": "t5bR2EhJyr6o"
      },
      "execution_count": 91,
      "outputs": []
    },
    {
      "cell_type": "code",
      "source": [
        "sigma"
      ],
      "metadata": {
        "colab": {
          "base_uri": "https://localhost:8080/"
        },
        "id": "dLzh0GNnyxs2",
        "outputId": "d59a3499-6faa-4a63-cf12-568be8e7d314"
      },
      "execution_count": 92,
      "outputs": [
        {
          "output_type": "execute_result",
          "data": {
            "text/plain": [
              "array([[5.81972146, 0.        ],\n",
              "       [0.        , 9.41739755]])"
            ]
          },
          "metadata": {},
          "execution_count": 92
        }
      ]
    },
    {
      "cell_type": "code",
      "source": [
        "predicted_matrix = np.dot(np.dot(U, sigma), Vt)"
      ],
      "metadata": {
        "id": "l8ZF57OxyyPS"
      },
      "execution_count": 93,
      "outputs": []
    },
    {
      "cell_type": "code",
      "source": [
        "predicted_matrix"
      ],
      "metadata": {
        "colab": {
          "base_uri": "https://localhost:8080/"
        },
        "id": "mVvmrlaty6V4",
        "outputId": "ab62d730-cd5b-41dd-eeee-35273ad698ed"
      },
      "execution_count": 94,
      "outputs": [
        {
          "output_type": "execute_result",
          "data": {
            "text/plain": [
              "array([[5.33563371, 2.0435826 , 0.59890614, 0.73454399],\n",
              "       [3.51517466, 1.46367965, 1.2126636 , 1.90688502],\n",
              "       [1.03998884, 0.69673312, 2.1971771 , 3.76179275],\n",
              "       [0.74857775, 0.52257305, 1.72840065, 2.96320181],\n",
              "       [0.24504777, 0.51932216, 2.99375423, 5.19308393]])"
            ]
          },
          "metadata": {},
          "execution_count": 94
        }
      ]
    },
    {
      "cell_type": "code",
      "source": [
        "plt.figure(figsize=(6,4))\n",
        "plt.scatter(U[:,0], U[:,1], c=\"blue\")\n",
        "plt.xlabel(\"Latent Feature 1\")\n",
        "plt.ylabel(\"Latent Feature 2\")\n",
        "plt.title(\"User Embeddings in 2D Latent Space\")\n",
        "for i, txt in enumerate(range(U.shape[0])):\n",
        "  plt.annotate(txt, (U[i,0], U[i,1]))\n",
        "plt.grid()\n",
        "plt.show()"
      ],
      "metadata": {
        "colab": {
          "base_uri": "https://localhost:8080/",
          "height": 410
        },
        "id": "Gkf25xLWzDkh",
        "outputId": "8f8a1368-1782-4a38-d511-036b7252f4ab"
      },
      "execution_count": 95,
      "outputs": [
        {
          "output_type": "display_data",
          "data": {
            "text/plain": [
              "<Figure size 600x400 with 1 Axes>"
            ],
            "image/png": "[encoded data removed]"
          },
          "metadata": {}
        }
      ]
    },
    {
      "cell_type": "markdown",
      "source": [
        "# Content-Based"
      ],
      "metadata": {
        "id": "hG8oliDt4h25"
      }
    },
    {
      "cell_type": "code",
      "source": [
        "import pandas as pd"
      ],
      "metadata": {
        "id": "r4ZKJJpI4j7P"
      },
      "execution_count": 96,
      "outputs": []
    },
    {
      "cell_type": "code",
      "source": [
        "data = {\n",
        "    \"Movie\": [\"Movie1\", \"Movie2\", \"Movie3\", \"Movie4\", \"Movie5\",\n",
        "              \"Movie6\", \"Movie7\", \"Movie8\", \"Movie9\", \"Movie10\"],\n",
        "    \"Genres\": [\"Action Adventure\", \"Acction Sci-Fi\", \"Romance Drama\", \"Comedy\", \"Horror Thriller\",\n",
        "               \"Documentary\", \"Animation\", \"Action Comedy\", \"Sci-Fi Thriller\", \"Romance Comedy\"]\n",
        "}\n",
        "\n",
        "df = pd.DataFrame(data)"
      ],
      "metadata": {
        "id": "kRtwyIhZ4p2T"
      },
      "execution_count": 97,
      "outputs": []
    },
    {
      "cell_type": "code",
      "source": [
        "df.shape"
      ],
      "metadata": {
        "colab": {
          "base_uri": "https://localhost:8080/"
        },
        "id": "Gkch1nm76wF6",
        "outputId": "20f5e523-5ecc-4418-824e-5decea0717e1"
      },
      "execution_count": 98,
      "outputs": [
        {
          "output_type": "execute_result",
          "data": {
            "text/plain": [
              "(10, 2)"
            ]
          },
          "metadata": {},
          "execution_count": 98
        }
      ]
    },
    {
      "cell_type": "code",
      "source": [
        "from sklearn.feature_extraction.text import TfidfVectorizer\n",
        "\n",
        "tfidf = TfidfVectorizer(max_features=100, stop_words=\"english\")\n",
        "tfidf_matrix = tfidf.fit_transform(df[\"Genres\"])"
      ],
      "metadata": {
        "id": "4YUn6RJV6y3S"
      },
      "execution_count": 99,
      "outputs": []
    },
    {
      "cell_type": "code",
      "source": [
        "tfidf_matrix"
      ],
      "metadata": {
        "colab": {
          "base_uri": "https://localhost:8080/"
        },
        "id": "mcZZZmvu7AZy",
        "outputId": "4a75618d-5324-41fc-8b3f-a2c1d4c37763"
      },
      "execution_count": 100,
      "outputs": [
        {
          "output_type": "execute_result",
          "data": {
            "text/plain": [
              "<10x12 sparse matrix of type '<class 'numpy.float64'>'\n",
              "\twith 19 stored elements in Compressed Sparse Row format>"
            ]
          },
          "metadata": {},
          "execution_count": 100
        }
      ]
    },
    {
      "cell_type": "code",
      "source": [
        "from sklearn.metrics.pairwise import cosine_similarity\n",
        "\n",
        "cosine_sim = cosine_similarity(tfidf_matrix, tfidf_matrix)"
      ],
      "metadata": {
        "id": "cOTEwlna7UnY"
      },
      "execution_count": 101,
      "outputs": []
    },
    {
      "cell_type": "code",
      "source": [
        "cosine_sim"
      ],
      "metadata": {
        "id": "gaO7CM_I797N",
        "outputId": "d6db1ea6-e002-4dc4-d09b-affb4b632966",
        "colab": {
          "base_uri": "https://localhost:8080/"
        }
      },
      "execution_count": 102,
      "outputs": [
        {
          "output_type": "execute_result",
          "data": {
            "text/plain": [
              "array([[1.        , 0.        , 0.        , 0.        , 0.        ,\n",
              "        0.        , 0.        , 0.48746406, 0.        , 0.        ],\n",
              "       [0.        , 1.        , 0.        , 0.        , 0.        ,\n",
              "        0.        , 0.        , 0.        , 0.62772287, 0.        ],\n",
              "       [0.        , 0.        , 1.        , 0.        , 0.        ,\n",
              "        0.        , 0.        , 0.        , 0.        , 0.48746406],\n",
              "       [0.        , 0.        , 0.        , 1.        , 0.        ,\n",
              "        0.        , 0.        , 0.65845424, 0.        , 0.65845424],\n",
              "       [0.        , 0.        , 0.        , 0.        , 1.        ,\n",
              "        0.        , 0.        , 0.        , 0.37394332, 0.        ],\n",
              "       [0.        , 0.        , 0.        , 0.        , 0.        ,\n",
              "        1.        , 0.        , 0.        , 0.        , 0.        ],\n",
              "       [0.        , 0.        , 0.        , 0.        , 0.        ,\n",
              "        0.        , 1.        , 0.        , 0.        , 0.        ],\n",
              "       [0.48746406, 0.        , 0.        , 0.65845424, 0.        ,\n",
              "        0.        , 0.        , 1.        , 0.        , 0.43356198],\n",
              "       [0.        , 0.62772287, 0.        , 0.        , 0.37394332,\n",
              "        0.        , 0.        , 0.        , 1.        , 0.        ],\n",
              "       [0.        , 0.        , 0.48746406, 0.65845424, 0.        ,\n",
              "        0.        , 0.        , 0.43356198, 0.        , 1.        ]])"
            ]
          },
          "metadata": {},
          "execution_count": 102
        }
      ]
    },
    {
      "cell_type": "code",
      "source": [
        "# Function to get movie recommendations\n",
        "def get_recommendations(title, cosine_sim=cosine_sim):\n",
        "  # Get the index of the movie that matches the title\n",
        "  idx = df.index[df[\"Movie\"] == title].tolist()[0]\n",
        "\n",
        "  # Get the pairwaise similarity scores of all movies with that movie\n",
        "  sim_scores = list(enumerate(cosine_sim[idx]))\n",
        "\n",
        "  # Sort the movies based on the similarity scores\n",
        "  sim_scores = sorted(sim_scores, key=lambda x: x[1], reverse=True)\n",
        "\n",
        "  # Get the scores of the 10 most similar movies\n",
        "  sim_scores = sim_scores[1:11]\n",
        "\n",
        "  # Get the movie indices\n",
        "  movie_indices = [i[0] for i in sim_scores]\n",
        "\n",
        "  # Return the top 10 most similar movies\n",
        "  return df[\"Movie\"].iloc[movie_indices]\n",
        "\n",
        "recommended_movies = get_recommendations(\"Movie2\")\n",
        "print(\"Recommended movies for a user who watched 'Movie2':\")\n",
        "print(recommended_movies)"
      ],
      "metadata": {
        "id": "LYm24DWZ7-4y",
        "colab": {
          "base_uri": "https://localhost:8080/"
        },
        "outputId": "be22af7d-ca00-4e98-ba5e-851cc2d9c3e5"
      },
      "execution_count": 103,
      "outputs": [
        {
          "output_type": "stream",
          "name": "stdout",
          "text": [
            "Recommended movies for a user who watched 'Movie2':\n",
            "8     Movie9\n",
            "0     Movie1\n",
            "2     Movie3\n",
            "3     Movie4\n",
            "4     Movie5\n",
            "5     Movie6\n",
            "6     Movie7\n",
            "7     Movie8\n",
            "9    Movie10\n",
            "Name: Movie, dtype: object\n"
          ]
        }
      ]
    },
    {
      "cell_type": "code",
      "source": [],
      "metadata": {
        "id": "IWwAJ1dB2x0e"
      },
      "execution_count": 103,
      "outputs": []
    }
  ]
}