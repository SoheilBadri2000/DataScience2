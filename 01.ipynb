{
  "nbformat": 4,
  "nbformat_minor": 0,
  "metadata": {
    "colab": {
      "provenance": [],
      "authorship_tag": "ABX9TyMUQeQYV3OPq5ZeO0QYjeyu",
      "include_colab_link": true
    },
    "kernelspec": {
      "name": "python3",
      "display_name": "Python 3"
    },
    "language_info": {
      "name": "python"
    }
  },
  "cells": [
    {
      "cell_type": "markdown",
      "metadata": {
        "id": "view-in-github",
        "colab_type": "text"
      },
      "source": [
        "<a href=\"https://colab.research.google.com/github/SoheilBadri2000/DataScience2/blob/main/01.ipynb\" target=\"_parent\"><img src=\"https://colab.research.google.com/assets/colab-badge.svg\" alt=\"Open In Colab\"/></a>"
      ]
    },
    {
      "cell_type": "code",
      "execution_count": null,
      "metadata": {
        "id": "xAlWG8z9OPX6"
      },
      "outputs": [],
      "source": [
        "import numpy as np\n",
        "import pandas as pd\n",
        "from sklearn.datasets import load_iris\n",
        "from sklearn.model_selection import train_test_split\n",
        "from scipy.stats import mode\n",
        "from sklearn.metrics import  classification_report"
      ]
    },
    {
      "cell_type": "code",
      "source": [
        "df = load_iris()"
      ],
      "metadata": {
        "id": "9JZK1jU-Ocse"
      },
      "execution_count": null,
      "outputs": []
    },
    {
      "cell_type": "code",
      "source": [
        "X = df.data\n",
        "y = df.target"
      ],
      "metadata": {
        "id": "Nc-VZYrMOeZu"
      },
      "execution_count": null,
      "outputs": []
    },
    {
      "cell_type": "code",
      "source": [
        "df.feature_names"
      ],
      "metadata": {
        "colab": {
          "base_uri": "https://localhost:8080/"
        },
        "id": "QD6YJfCROmT_",
        "outputId": "fc829562-72ff-459a-de40-03f5cfb05ec6"
      },
      "execution_count": null,
      "outputs": [
        {
          "output_type": "execute_result",
          "data": {
            "text/plain": [
              "['sepal length (cm)',\n",
              " 'sepal width (cm)',\n",
              " 'petal length (cm)',\n",
              " 'petal width (cm)']"
            ]
          },
          "metadata": {},
          "execution_count": 19
        }
      ]
    },
    {
      "cell_type": "markdown",
      "source": [],
      "metadata": {
        "id": "OZkKMs-RTdNC"
      }
    },
    {
      "cell_type": "code",
      "source": [
        "df.target_names"
      ],
      "metadata": {
        "colab": {
          "base_uri": "https://localhost:8080/"
        },
        "id": "PGC0FAdJOwyL",
        "outputId": "7b69af4a-70bf-442e-e169-15ed8553a74a"
      },
      "execution_count": null,
      "outputs": [
        {
          "output_type": "execute_result",
          "data": {
            "text/plain": [
              "array(['setosa', 'versicolor', 'virginica'], dtype='<U10')"
            ]
          },
          "metadata": {},
          "execution_count": 20
        }
      ]
    },
    {
      "cell_type": "code",
      "source": [
        "X_train, X_test, y_train, y_test = train_test_split(X, y, test_size=0.3, random_state=42)"
      ],
      "metadata": {
        "id": "_UCata0CO1WZ"
      },
      "execution_count": null,
      "outputs": []
    },
    {
      "cell_type": "code",
      "source": [
        "def KNN(X_train, y_train, X_test, k=1):\n",
        "  dist = np.linalg.norm(X_train - X_test, ord=2, axis=1) # vector\n",
        "  sorted_arg_dist = np.argsort(dist)\n",
        "  y_nn = y_train[sorted_arg_dist[:k]]\n",
        "  return mode(y_nn)[0]"
      ],
      "metadata": {
        "id": "nXNZSLOKPQZ7"
      },
      "execution_count": null,
      "outputs": []
    },
    {
      "cell_type": "code",
      "source": [
        "# prediction phase\n",
        "y_pred = np.zeros(len(X_test))\n",
        "for i in range(len(X_test)):\n",
        "  y_pred[i] = KNN(X_train, y_train, X_test[i], k=5)"
      ],
      "metadata": {
        "id": "muqGwnaNQxGB"
      },
      "execution_count": null,
      "outputs": []
    },
    {
      "cell_type": "code",
      "source": [
        "print(classification_report(y_test, y_pred))"
      ],
      "metadata": {
        "colab": {
          "base_uri": "https://localhost:8080/"
        },
        "id": "MmhOX-gBR6sw",
        "outputId": "21a7b5f0-c257-4b46-e8a7-5be16e3105db"
      },
      "execution_count": null,
      "outputs": [
        {
          "output_type": "stream",
          "name": "stdout",
          "text": [
            "              precision    recall  f1-score   support\n",
            "\n",
            "           0       1.00      1.00      1.00        19\n",
            "           1       1.00      1.00      1.00        13\n",
            "           2       1.00      1.00      1.00        13\n",
            "\n",
            "    accuracy                           1.00        45\n",
            "   macro avg       1.00      1.00      1.00        45\n",
            "weighted avg       1.00      1.00      1.00        45\n",
            "\n"
          ]
        }
      ]
    },
    {
      "cell_type": "code",
      "source": [],
      "metadata": {
        "id": "Ml4YDO0cUU6-"
      },
      "execution_count": null,
      "outputs": []
    }
  ]
}