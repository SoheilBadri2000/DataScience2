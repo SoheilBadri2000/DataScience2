{
  "cells": [
    {
      "cell_type": "markdown",
      "metadata": {
        "id": "view-in-github",
        "colab_type": "text"
      },
      "source": [
        "<a href=\"https://colab.research.google.com/github/SoheilBadri2000/DataScience2/blob/main/15.ipynb\" target=\"_parent\"><img src=\"https://colab.research.google.com/assets/colab-badge.svg\" alt=\"Open In Colab\"/></a>"
      ]
    },
    {
      "cell_type": "code",
      "execution_count": 1,
      "metadata": {
        "id": "o4wPoBHUIQwA"
      },
      "outputs": [],
      "source": [
        "from scipy.io import loadmat\n",
        "import numpy as np\n",
        "import pandas as pd\n",
        "import matplotlib.pyplot as plt"
      ]
    },
    {
      "cell_type": "code",
      "execution_count": 2,
      "metadata": {
        "colab": {
          "base_uri": "https://localhost:8080/"
        },
        "id": "WmZA5ov1IaSd",
        "outputId": "e0d78180-dce8-43bd-ac28-27cf86e42632"
      },
      "outputs": [
        {
          "output_type": "stream",
          "name": "stdout",
          "text": [
            "--2024-01-27 06:14:46--  http://ufldl.stanford.edu/housenumbers/train_32x32.mat\n",
            "Resolving ufldl.stanford.edu (ufldl.stanford.edu)... 171.64.68.10\n",
            "Connecting to ufldl.stanford.edu (ufldl.stanford.edu)|171.64.68.10|:80... connected.\n",
            "HTTP request sent, awaiting response... 200 OK\n",
            "Length: 182040794 (174M) [text/plain]\n",
            "Saving to: ‘train_32x32.mat.1’\n",
            "\n",
            "train_32x32.mat.1   100%[===================>] 173.61M  58.5MB/s    in 3.0s    \n",
            "\n",
            "2024-01-27 06:14:50 (58.5 MB/s) - ‘train_32x32.mat.1’ saved [182040794/182040794]\n",
            "\n",
            "--2024-01-27 06:14:50--  http://ufldl.stanford.edu/housenumbers/test_32x32.mat\n",
            "Resolving ufldl.stanford.edu (ufldl.stanford.edu)... 171.64.68.10\n",
            "Connecting to ufldl.stanford.edu (ufldl.stanford.edu)|171.64.68.10|:80... connected.\n",
            "HTTP request sent, awaiting response... 200 OK\n",
            "Length: 64275384 (61M) [text/plain]\n",
            "Saving to: ‘test_32x32.mat.1’\n",
            "\n",
            "test_32x32.mat.1    100%[===================>]  61.30M  37.8MB/s    in 1.6s    \n",
            "\n",
            "2024-01-27 06:14:51 (37.8 MB/s) - ‘test_32x32.mat.1’ saved [64275384/64275384]\n",
            "\n",
            "--2024-01-27 06:14:51--  http://ufldl.stanford.edu/housenumbers/extra_32x32.mat\n",
            "Resolving ufldl.stanford.edu (ufldl.stanford.edu)... 171.64.68.10\n",
            "Connecting to ufldl.stanford.edu (ufldl.stanford.edu)|171.64.68.10|:80... connected.\n",
            "HTTP request sent, awaiting response... 200 OK\n",
            "Length: 1329278602 (1.2G) [text/plain]\n",
            "Saving to: ‘extra_32x32.mat.1’\n",
            "\n",
            "extra_32x32.mat.1   100%[===================>]   1.24G  57.1MB/s    in 21s     \n",
            "\n",
            "2024-01-27 06:15:13 (59.9 MB/s) - ‘extra_32x32.mat.1’ saved [1329278602/1329278602]\n",
            "\n"
          ]
        }
      ],
      "source": [
        "!wget http://ufldl.stanford.edu/housenumbers/train_32x32.mat\n",
        "!wget http://ufldl.stanford.edu/housenumbers/test_32x32.mat\n",
        "!wget http://ufldl.stanford.edu/housenumbers/extra_32x32.mat"
      ]
    },
    {
      "cell_type": "code",
      "execution_count": 3,
      "metadata": {
        "id": "gIgx0Hl5IQwE"
      },
      "outputs": [],
      "source": [
        "data_train = loadmat(\"train_32x32.mat\")\n",
        "data_test = loadmat(\"test_32x32.mat\")\n",
        "data_extra = loadmat(\"extra_32x32.mat\")"
      ]
    },
    {
      "cell_type": "markdown",
      "metadata": {
        "id": "PyWqr7DAJU4Q"
      },
      "source": [
        "## EDA"
      ]
    },
    {
      "cell_type": "code",
      "execution_count": 4,
      "metadata": {
        "colab": {
          "base_uri": "https://localhost:8080/"
        },
        "id": "9Gwgc9rtIQwF",
        "outputId": "eb469a38-f20d-427c-dcac-1748d845fe47"
      },
      "outputs": [
        {
          "output_type": "execute_result",
          "data": {
            "text/plain": [
              "{'__header__': b'MATLAB 5.0 MAT-file, Platform: GLNXA64, Created on: Mon Dec  5 21:09:26 2011',\n",
              " '__version__': '1.0',\n",
              " '__globals__': [],\n",
              " 'X': array([[[[ 33,  84,  19, ...,  92, 190, 216],\n",
              "          [ 30,  76,  54, ...,  78, 188, 217],\n",
              "          [ 38,  59, 110, ..., 101, 191, 212]],\n",
              " \n",
              "         [[ 15,  86,  20, ...,  94, 205, 221],\n",
              "          [ 23,  73,  52, ...,  82, 203, 222],\n",
              "          [ 19,  66, 111, ..., 105, 206, 217]],\n",
              " \n",
              "         [[ 15,  77,  25, ..., 114, 220, 226],\n",
              "          [ 17,  78,  57, ..., 101, 218, 227],\n",
              "          [ 19,  56, 116, ..., 125, 220, 221]],\n",
              " \n",
              "         ...,\n",
              " \n",
              "         [[ 72,  90,  65, ..., 200, 229, 200],\n",
              "          [ 65,  78, 144, ..., 201, 231, 199],\n",
              "          [ 56,  69, 223, ..., 203, 224, 191]],\n",
              " \n",
              "         [[ 82,  88,  78, ..., 192, 229, 193],\n",
              "          [ 77,  77, 148, ..., 193, 229, 188],\n",
              "          [ 57,  67, 218, ..., 195, 224, 182]],\n",
              " \n",
              "         [[ 89,  88,  98, ..., 190, 229, 197],\n",
              "          [ 79,  78, 158, ..., 191, 228, 189],\n",
              "          [ 59,  66, 220, ..., 193, 223, 186]]],\n",
              " \n",
              " \n",
              "        [[[ 28,  85,  21, ...,  92, 183, 204],\n",
              "          [ 39,  77,  53, ...,  78, 182, 205],\n",
              "          [ 35,  61, 110, ..., 103, 186, 202]],\n",
              " \n",
              "         [[ 14,  83,  19, ...,  93, 200, 210],\n",
              "          [ 25,  73,  52, ...,  80, 199, 211],\n",
              "          [ 22,  64, 106, ..., 106, 201, 208]],\n",
              " \n",
              "         [[ 14,  74,  25, ..., 111, 218, 220],\n",
              "          [ 20,  69,  56, ...,  98, 217, 221],\n",
              "          [ 17,  59, 111, ..., 124, 218, 217]],\n",
              " \n",
              "         ...,\n",
              " \n",
              "         [[ 40,  89,  63, ..., 181, 227, 201],\n",
              "          [ 39,  82, 137, ..., 180, 228, 199],\n",
              "          [ 50,  64, 208, ..., 184, 223, 193]],\n",
              " \n",
              "         [[ 67,  88,  91, ..., 177, 227, 195],\n",
              "          [ 58,  79, 153, ..., 176, 226, 191],\n",
              "          [ 52,  70, 214, ..., 180, 222, 186]],\n",
              " \n",
              "         [[ 83,  88, 130, ..., 183, 228, 196],\n",
              "          [ 78,  81, 180, ..., 182, 224, 190],\n",
              "          [ 60,  67, 229, ..., 187, 221, 186]]],\n",
              " \n",
              " \n",
              "        [[[ 40,  83,  21, ...,  99, 171, 198],\n",
              "          [ 41,  76,  53, ...,  84, 170, 198],\n",
              "          [ 38,  60, 110, ..., 112, 175, 197]],\n",
              " \n",
              "         [[ 18,  78,  20, ...,  94, 189, 202],\n",
              "          [ 21,  77,  51, ...,  81, 189, 202],\n",
              "          [ 26,  58, 106, ..., 110, 193, 201]],\n",
              " \n",
              "         [[ 16,  61,  22, ..., 107, 213, 212],\n",
              "          [ 17,  50,  52, ...,  94, 213, 211],\n",
              "          [ 23,  54, 106, ..., 123, 215, 210]],\n",
              " \n",
              "         ...,\n",
              " \n",
              "         [[ 23,  90,  79, ..., 167, 231, 203],\n",
              "          [ 29,  85, 147, ..., 166, 230, 200],\n",
              "          [ 45,  63, 210, ..., 171, 226, 196]],\n",
              " \n",
              "         [[ 35,  88, 125, ..., 172, 229, 198],\n",
              "          [ 42,  83, 181, ..., 171, 226, 194],\n",
              "          [ 44,  66, 230, ..., 176, 223, 191]],\n",
              " \n",
              "         [[ 72,  85, 178, ..., 185, 227, 195],\n",
              "          [ 69,  82, 218, ..., 184, 223, 190],\n",
              "          [ 53,  70, 254, ..., 189, 220, 187]]],\n",
              " \n",
              " \n",
              "        ...,\n",
              " \n",
              " \n",
              "        [[[ 86, 100,  88, ...,  99, 187, 233],\n",
              "          [ 81,  98, 162, ...,  94, 185, 226],\n",
              "          [ 75,  72, 237, ..., 110, 186, 228]],\n",
              " \n",
              "         [[ 87,  98,  89, ...,  96, 204, 230],\n",
              "          [ 82,  94, 163, ...,  91, 202, 224],\n",
              "          [ 71,  76, 238, ..., 109, 199, 225]],\n",
              " \n",
              "         [[ 82,  95,  84, ..., 108, 217, 228],\n",
              "          [ 79,  93, 156, ..., 103, 217, 223],\n",
              "          [ 65,  73, 230, ..., 124, 210, 221]],\n",
              " \n",
              "         ...,\n",
              " \n",
              "         [[104, 104,  62, ..., 210, 204, 198],\n",
              "          [104, 104, 142, ..., 207, 200, 196],\n",
              "          [ 87,  86, 227, ..., 204, 195, 190]],\n",
              " \n",
              "         [[104, 102,  67, ..., 206, 196, 184],\n",
              "          [105, 102, 144, ..., 202, 193, 183],\n",
              "          [ 81,  87, 226, ..., 200, 189, 177]],\n",
              " \n",
              "         [[103, 100,  74, ..., 203, 196, 189],\n",
              "          [105, 101, 145, ..., 197, 193, 187],\n",
              "          [ 78,  78, 225, ..., 199, 189, 182]]],\n",
              " \n",
              " \n",
              "        [[[ 84, 103,  88, ...,  94, 186, 231],\n",
              "          [ 86, 104, 164, ...,  91, 184, 226],\n",
              "          [ 64,  79, 240, ..., 103, 185, 228]],\n",
              " \n",
              "         [[ 86, 106,  87, ...,  94, 198, 229],\n",
              "          [ 79, 104, 160, ...,  91, 197, 224],\n",
              "          [ 72,  79, 237, ..., 104, 194, 225]],\n",
              " \n",
              "         [[ 82, 103,  88, ..., 110, 211, 227],\n",
              "          [ 76, 103, 159, ..., 107, 211, 223],\n",
              "          [ 72,  87, 237, ..., 121, 204, 222]],\n",
              " \n",
              "         ...,\n",
              " \n",
              "         [[110, 103,  60, ..., 219, 222, 195],\n",
              "          [103, 104, 141, ..., 218, 216, 194],\n",
              "          [ 84,  86, 230, ..., 215, 212, 186]],\n",
              " \n",
              "         [[106, 103,  61, ..., 218, 214, 181],\n",
              "          [105, 103, 141, ..., 215, 209, 181],\n",
              "          [ 85,  87, 228, ..., 212, 205, 173]],\n",
              " \n",
              "         [[106, 105,  65, ..., 212, 208, 186],\n",
              "          [104,  99, 143, ..., 209, 205, 183],\n",
              "          [ 86,  81, 226, ..., 209, 200, 177]]],\n",
              " \n",
              " \n",
              "        [[[ 85, 103,  84, ...,  88, 190, 230],\n",
              "          [ 88, 106, 160, ...,  87, 188, 226],\n",
              "          [ 68,  82, 238, ...,  94, 190, 227]],\n",
              " \n",
              "         [[ 89, 103,  81, ...,  85, 199, 230],\n",
              "          [ 82, 105, 154, ...,  84, 197, 226],\n",
              "          [ 72,  87, 233, ...,  93, 194, 227]],\n",
              " \n",
              "         [[ 85, 104,  87, ..., 105, 208, 229],\n",
              "          [ 79, 106, 158, ..., 103, 208, 225],\n",
              "          [ 67,  91, 238, ..., 114, 201, 226]],\n",
              " \n",
              "         ...,\n",
              " \n",
              "         [[111, 113,  63, ..., 217, 232, 190],\n",
              "          [104, 103, 144, ..., 217, 227, 190],\n",
              "          [ 87,  88, 235, ..., 214, 223, 181]],\n",
              " \n",
              "         [[109, 104,  62, ..., 221, 226, 178],\n",
              "          [105, 104, 143, ..., 220, 221, 177],\n",
              "          [ 86,  88, 232, ..., 219, 216, 169]],\n",
              " \n",
              "         [[103, 103,  63, ..., 218, 218, 181],\n",
              "          [106,  98, 145, ..., 217, 213, 178],\n",
              "          [ 79,  80, 231, ..., 218, 209, 171]]]], dtype=uint8),\n",
              " 'y': array([[1],\n",
              "        [9],\n",
              "        [2],\n",
              "        ...,\n",
              "        [1],\n",
              "        [6],\n",
              "        [9]], dtype=uint8)}"
            ]
          },
          "metadata": {},
          "execution_count": 4
        }
      ],
      "source": [
        "data_train"
      ]
    },
    {
      "cell_type": "code",
      "execution_count": 5,
      "metadata": {
        "colab": {
          "base_uri": "https://localhost:8080/"
        },
        "id": "xxXBuszYIQwH",
        "outputId": "ea7f90d4-c93b-49d2-f5dc-09221eaa27d4"
      },
      "outputs": [
        {
          "output_type": "execute_result",
          "data": {
            "text/plain": [
              "dict"
            ]
          },
          "metadata": {},
          "execution_count": 5
        }
      ],
      "source": [
        "type(data_train)"
      ]
    },
    {
      "cell_type": "code",
      "execution_count": 6,
      "metadata": {
        "colab": {
          "base_uri": "https://localhost:8080/"
        },
        "id": "W0lap0bIIQwI",
        "outputId": "00f36b3a-22c1-449e-ab88-238b3fba547c"
      },
      "outputs": [
        {
          "output_type": "execute_result",
          "data": {
            "text/plain": [
              "dict_keys(['__header__', '__version__', '__globals__', 'X', 'y'])"
            ]
          },
          "metadata": {},
          "execution_count": 6
        }
      ],
      "source": [
        "# Every dictionary has 3 attributes: .items(), .keys(), .values()\n",
        "data_train.keys()"
      ]
    },
    {
      "cell_type": "code",
      "execution_count": 7,
      "metadata": {
        "colab": {
          "base_uri": "https://localhost:8080/"
        },
        "id": "LPRMOuWfIQwK",
        "outputId": "225ae6e7-353f-4cfc-cf2b-5d685f674de5"
      },
      "outputs": [
        {
          "output_type": "execute_result",
          "data": {
            "text/plain": [
              "dict_keys(['__header__', '__version__', '__globals__', 'X', 'y'])"
            ]
          },
          "metadata": {},
          "execution_count": 7
        }
      ],
      "source": [
        "data_test.keys()"
      ]
    },
    {
      "cell_type": "code",
      "execution_count": 8,
      "metadata": {
        "id": "ZuIgwPM7IQwL"
      },
      "outputs": [],
      "source": [
        "X_train = data_train['X']\n",
        "X_test = data_test['X']\n",
        "X_extra = data_extra['X']\n",
        "\n",
        "\n",
        "X_train = np.transpose(X_train, (3, 0, 1, 2))\n",
        "X_test = np.transpose(X_test, (3, 0, 1, 2))\n",
        "X_extra = np.transpose(X_extra, (3, 0 ,1, 2))\n",
        "\n",
        "X_train = np.concatenate((X_train, X_extra[:1000]))\n",
        "\n",
        "\n",
        "y_train = data_train['y']\n",
        "y_test = data_test['y']\n",
        "y_extra = data_extra['y']\n",
        "\n",
        "y_train = np.concatenate((y_train, y_extra[:1000]))"
      ]
    },
    {
      "cell_type": "code",
      "execution_count": 9,
      "metadata": {
        "colab": {
          "base_uri": "https://localhost:8080/"
        },
        "id": "pR6yUMiDIQwL",
        "outputId": "008f87cc-808e-4881-fa57-ac1d5614f367"
      },
      "outputs": [
        {
          "output_type": "execute_result",
          "data": {
            "text/plain": [
              "numpy.ndarray"
            ]
          },
          "metadata": {},
          "execution_count": 9
        }
      ],
      "source": [
        "type(X_train)"
      ]
    },
    {
      "cell_type": "code",
      "execution_count": 10,
      "metadata": {
        "colab": {
          "base_uri": "https://localhost:8080/"
        },
        "id": "KPU-M6FpIQwM",
        "outputId": "81754447-39d7-45ee-b14b-6b5e9a52779f"
      },
      "outputs": [
        {
          "output_type": "execute_result",
          "data": {
            "text/plain": [
              "(74257, 32, 32, 3)"
            ]
          },
          "metadata": {},
          "execution_count": 10
        }
      ],
      "source": [
        "X_train.shape"
      ]
    },
    {
      "cell_type": "code",
      "source": [
        "# Replace 10 with 0\n",
        "y_train = np.where(y_train==10, 0, y_train)\n",
        "y_test = np.where(y_test==10, 0, y_test)\n",
        "y_extra = np.where(y_extra==10, 0, y_extra)"
      ],
      "metadata": {
        "id": "7Y-e8rs0vQLx"
      },
      "execution_count": 11,
      "outputs": []
    },
    {
      "cell_type": "code",
      "source": [
        "np.unique(y_train)"
      ],
      "metadata": {
        "colab": {
          "base_uri": "https://localhost:8080/"
        },
        "id": "DARh8-XavyWh",
        "outputId": "9b9bc85e-ac1c-4cbb-af26-39a52c2cb8e5"
      },
      "execution_count": 12,
      "outputs": [
        {
          "output_type": "execute_result",
          "data": {
            "text/plain": [
              "array([0, 1, 2, 3, 4, 5, 6, 7, 8, 9], dtype=uint8)"
            ]
          },
          "metadata": {},
          "execution_count": 12
        }
      ]
    },
    {
      "cell_type": "code",
      "source": [
        "# Normalize\n",
        "X_train = X_train.astype(np.float32) / 255.0\n",
        "X_test = X_test.astype(np.float32) / 255.0\n",
        "X_extra = X_extra.astype(np.float32) / 255.0"
      ],
      "metadata": {
        "id": "2TRrvO-sv7od"
      },
      "execution_count": 13,
      "outputs": []
    },
    {
      "cell_type": "code",
      "source": [
        "# Extra PreProcessing: OneHotEncoding\n",
        "from keras.utils import to_categorical\n",
        "\n",
        "y_train = to_categorical(y_train)\n",
        "y_test = to_categorical(y_test)\n",
        "y_extra = to_categorical(y_test)"
      ],
      "metadata": {
        "id": "Ny_yrtd7wW_p"
      },
      "execution_count": 14,
      "outputs": []
    },
    {
      "cell_type": "code",
      "source": [
        "i = np.random.randint(1, len(X_train))\n",
        "print(f\"Label of {i}th image is: {y_train[i]}\")\n",
        "plt.imshow(X_train[i])"
      ],
      "metadata": {
        "colab": {
          "base_uri": "https://localhost:8080/",
          "height": 465
        },
        "id": "HgYI2Erg2UZO",
        "outputId": "515a5f08-7e9d-4366-b381-ce4df2d02862"
      },
      "execution_count": 15,
      "outputs": [
        {
          "output_type": "stream",
          "name": "stdout",
          "text": [
            "Label of 59302th image is: [0. 0. 0. 0. 0. 1. 0. 0. 0. 0.]\n"
          ]
        },
        {
          "output_type": "execute_result",
          "data": {
            "text/plain": [
              "<matplotlib.image.AxesImage at 0x792b627470d0>"
            ]
          },
          "metadata": {},
          "execution_count": 15
        },
        {
          "output_type": "display_data",
          "data": {
            "text/plain": [
              "<Figure size 640x480 with 1 Axes>"
            ],
            "image/png": "[encoded data removed]"
          },
          "metadata": {}
        }
      ]
    },
    {
      "cell_type": "markdown",
      "source": [
        "## CNNs"
      ],
      "metadata": {
        "id": "hMosUrQf1EqH"
      }
    },
    {
      "cell_type": "code",
      "source": [
        "from keras.models import Sequential\n",
        "from keras.layers import Conv2D, MaxPool2D, Flatten, Dense, InputLayer, Dropout\n",
        "from keras.optimizers import Adam"
      ],
      "metadata": {
        "id": "d7d0E6qh1GAr"
      },
      "execution_count": 16,
      "outputs": []
    },
    {
      "cell_type": "code",
      "source": [
        "model = Sequential()\n",
        "\n",
        "model.add(InputLayer(input_shape=X_train[0].shape))\n",
        "\n",
        "model.add(Conv2D(32, kernel_size=(3,3), activation=\"relu\"))\n",
        "model.add(MaxPool2D(pool_size=(2,2)))\n",
        "model.add(Conv2D(64, kernel_size=(3,3), activation=\"relu\"))\n",
        "\n",
        "model.add(Flatten())\n",
        "# Overfitting handling\n",
        "model.add(Dropout(0.5))\n",
        "model.add(Dense(128, activation=\"relu\"))\n",
        "model.add(Dense(len(y_train[0]), activation=\"softmax\"))\n",
        "\n",
        "model.compile(optimizer=Adam(learning_rate=0.001),\n",
        "              loss=\"categorical_crossentropy\",\n",
        "              metrics=[\"accuracy\"])"
      ],
      "metadata": {
        "id": "48JhK8Md4aEb"
      },
      "execution_count": 17,
      "outputs": []
    },
    {
      "cell_type": "code",
      "source": [
        "model.summary()"
      ],
      "metadata": {
        "colab": {
          "base_uri": "https://localhost:8080/"
        },
        "id": "EPqFBxKo7tGt",
        "outputId": "3e130ea6-1772-44c3-e160-d38b57b7c312"
      },
      "execution_count": 18,
      "outputs": [
        {
          "output_type": "stream",
          "name": "stdout",
          "text": [
            "Model: \"sequential\"\n",
            "_________________________________________________________________\n",
            " Layer (type)                Output Shape              Param #   \n",
            "=================================================================\n",
            " conv2d (Conv2D)             (None, 30, 30, 32)        896       \n",
            "                                                                 \n",
            " max_pooling2d (MaxPooling2  (None, 15, 15, 32)        0         \n",
            " D)                                                              \n",
            "                                                                 \n",
            " conv2d_1 (Conv2D)           (None, 13, 13, 64)        18496     \n",
            "                                                                 \n",
            " flatten (Flatten)           (None, 10816)             0         \n",
            "                                                                 \n",
            " dropout (Dropout)           (None, 10816)             0         \n",
            "                                                                 \n",
            " dense (Dense)               (None, 128)               1384576   \n",
            "                                                                 \n",
            " dense_1 (Dense)             (None, 10)                1290      \n",
            "                                                                 \n",
            "=================================================================\n",
            "Total params: 1405258 (5.36 MB)\n",
            "Trainable params: 1405258 (5.36 MB)\n",
            "Non-trainable params: 0 (0.00 Byte)\n",
            "_________________________________________________________________\n"
          ]
        }
      ]
    },
    {
      "cell_type": "code",
      "source": [
        "model.fit(X_train, y_train, batch_size=32, epochs=20, validation_split=0.1)"
      ],
      "metadata": {
        "colab": {
          "base_uri": "https://localhost:8080/"
        },
        "id": "T7G2BhKT7vuk",
        "outputId": "7475fdf7-98b6-4cf6-f9c0-1fe5b5d5cf06"
      },
      "execution_count": 19,
      "outputs": [
        {
          "output_type": "stream",
          "name": "stdout",
          "text": [
            "Epoch 1/20\n",
            "2089/2089 [==============================] - 16s 5ms/step - loss: 0.9030 - accuracy: 0.7144 - val_loss: 0.4719 - val_accuracy: 0.8660\n",
            "Epoch 2/20\n",
            "2089/2089 [==============================] - 9s 4ms/step - loss: 0.5019 - accuracy: 0.8513 - val_loss: 0.4001 - val_accuracy: 0.8854\n",
            "Epoch 3/20\n",
            "2089/2089 [==============================] - 10s 5ms/step - loss: 0.4275 - accuracy: 0.8706 - val_loss: 0.3654 - val_accuracy: 0.8947\n",
            "Epoch 4/20\n",
            "2089/2089 [==============================] - 9s 4ms/step - loss: 0.3801 - accuracy: 0.8852 - val_loss: 0.3488 - val_accuracy: 0.8951\n",
            "Epoch 5/20\n",
            "2089/2089 [==============================] - 9s 4ms/step - loss: 0.3437 - accuracy: 0.8959 - val_loss: 0.3362 - val_accuracy: 0.9016\n",
            "Epoch 6/20\n",
            "2089/2089 [==============================] - 10s 5ms/step - loss: 0.3150 - accuracy: 0.9039 - val_loss: 0.3431 - val_accuracy: 0.8987\n",
            "Epoch 7/20\n",
            "2089/2089 [==============================] - 10s 5ms/step - loss: 0.2830 - accuracy: 0.9135 - val_loss: 0.3192 - val_accuracy: 0.9087\n",
            "Epoch 8/20\n",
            "2089/2089 [==============================] - 9s 4ms/step - loss: 0.2640 - accuracy: 0.9178 - val_loss: 0.3202 - val_accuracy: 0.9083\n",
            "Epoch 9/20\n",
            "2089/2089 [==============================] - 9s 4ms/step - loss: 0.2446 - accuracy: 0.9239 - val_loss: 0.3224 - val_accuracy: 0.9106\n",
            "Epoch 10/20\n",
            "2089/2089 [==============================] - 10s 5ms/step - loss: 0.2306 - accuracy: 0.9277 - val_loss: 0.3359 - val_accuracy: 0.9072\n",
            "Epoch 11/20\n",
            "2089/2089 [==============================] - 9s 4ms/step - loss: 0.2135 - accuracy: 0.9325 - val_loss: 0.3532 - val_accuracy: 0.9088\n",
            "Epoch 12/20\n",
            "2089/2089 [==============================] - 9s 4ms/step - loss: 0.2040 - accuracy: 0.9357 - val_loss: 0.3359 - val_accuracy: 0.9098\n",
            "Epoch 13/20\n",
            "2089/2089 [==============================] - 9s 4ms/step - loss: 0.1921 - accuracy: 0.9391 - val_loss: 0.3518 - val_accuracy: 0.9082\n",
            "Epoch 14/20\n",
            "2089/2089 [==============================] - 9s 4ms/step - loss: 0.1802 - accuracy: 0.9421 - val_loss: 0.3594 - val_accuracy: 0.9090\n",
            "Epoch 15/20\n",
            "2089/2089 [==============================] - 9s 4ms/step - loss: 0.1702 - accuracy: 0.9448 - val_loss: 0.3685 - val_accuracy: 0.9072\n",
            "Epoch 16/20\n",
            "2089/2089 [==============================] - 9s 4ms/step - loss: 0.1634 - accuracy: 0.9461 - val_loss: 0.3506 - val_accuracy: 0.9117\n",
            "Epoch 17/20\n",
            "2089/2089 [==============================] - 9s 4ms/step - loss: 0.1556 - accuracy: 0.9499 - val_loss: 0.3579 - val_accuracy: 0.9121\n",
            "Epoch 18/20\n",
            "2089/2089 [==============================] - 9s 4ms/step - loss: 0.1492 - accuracy: 0.9520 - val_loss: 0.3667 - val_accuracy: 0.9106\n",
            "Epoch 19/20\n",
            "2089/2089 [==============================] - 9s 4ms/step - loss: 0.1464 - accuracy: 0.9527 - val_loss: 0.4035 - val_accuracy: 0.9118\n",
            "Epoch 20/20\n",
            "2089/2089 [==============================] - 9s 4ms/step - loss: 0.1378 - accuracy: 0.9546 - val_loss: 0.3927 - val_accuracy: 0.9114\n"
          ]
        },
        {
          "output_type": "execute_result",
          "data": {
            "text/plain": [
              "<keras.src.callbacks.History at 0x792b5f7dd930>"
            ]
          },
          "metadata": {},
          "execution_count": 19
        }
      ]
    },
    {
      "cell_type": "code",
      "source": [
        "# Batch size is usually set to 32 or 64 to save up RAM"
      ],
      "metadata": {
        "id": "wBedDOkY9YV8"
      },
      "execution_count": 20,
      "outputs": []
    },
    {
      "cell_type": "code",
      "source": [
        "score = model.evaluate(X_test, y_test)\n",
        "print(\"test loss:\", score[0])\n",
        "print(\"test accuracy:\", score[1])"
      ],
      "metadata": {
        "id": "v2OcDbjK9hLW",
        "colab": {
          "base_uri": "https://localhost:8080/"
        },
        "outputId": "fd35a1a6-d0ed-487a-9df4-a6f1be612639"
      },
      "execution_count": 21,
      "outputs": [
        {
          "output_type": "stream",
          "name": "stdout",
          "text": [
            "814/814 [==============================] - 3s 3ms/step - loss: 0.5090 - accuracy: 0.8936\n",
            "test loss: 0.5090281963348389\n",
            "test accuracy: 0.8936309218406677\n"
          ]
        }
      ]
    },
    {
      "cell_type": "code",
      "source": [
        "model.save(\"model.h5\")"
      ],
      "metadata": {
        "id": "aWi1xWaiMeEk",
        "colab": {
          "base_uri": "https://localhost:8080/"
        },
        "outputId": "6f9c6f09-a387-4d26-d3de-8aaf4bcaf62f"
      },
      "execution_count": 22,
      "outputs": [
        {
          "output_type": "stream",
          "name": "stderr",
          "text": [
            "/usr/local/lib/python3.10/dist-packages/keras/src/engine/training.py:3103: UserWarning: You are saving your model as an HDF5 file via `model.save()`. This file format is considered legacy. We recommend using instead the native Keras format, e.g. `model.save('my_model.keras')`.\n",
            "  saving_api.save_model(\n"
          ]
        }
      ]
    },
    {
      "cell_type": "code",
      "source": [],
      "metadata": {
        "id": "o8T5tMnRkuUQ"
      },
      "execution_count": null,
      "outputs": []
    }
  ],
  "metadata": {
    "colab": {
      "provenance": [],
      "gpuType": "T4",
      "include_colab_link": true
    },
    "kernelspec": {
      "display_name": "Python 3",
      "name": "python3"
    },
    "language_info": {
      "codemirror_mode": {
        "name": "ipython",
        "version": 3
      },
      "file_extension": ".py",
      "mimetype": "text/x-python",
      "name": "python",
      "nbconvert_exporter": "python",
      "pygments_lexer": "ipython3",
      "version": "3.10.5"
    },
    "accelerator": "GPU"
  },
  "nbformat": 4,
  "nbformat_minor": 0
}