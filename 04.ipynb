{
  "nbformat": 4,
  "nbformat_minor": 0,
  "metadata": {
    "colab": {
      "provenance": [],
      "authorship_tag": "ABX9TyMH712rs/p5IpjNh0M0s2C0",
      "include_colab_link": true
    },
    "kernelspec": {
      "name": "python3",
      "display_name": "Python 3"
    },
    "language_info": {
      "name": "python"
    }
  },
  "cells": [
    {
      "cell_type": "markdown",
      "metadata": {
        "id": "view-in-github",
        "colab_type": "text"
      },
      "source": [
        "<a href=\"https://colab.research.google.com/github/SoheilBadri2000/DataScience2/blob/main/04.ipynb\" target=\"_parent\"><img src=\"https://colab.research.google.com/assets/colab-badge.svg\" alt=\"Open In Colab\"/></a>"
      ]
    },
    {
      "cell_type": "code",
      "execution_count": 1,
      "metadata": {
        "colab": {
          "base_uri": "https://localhost:8080/"
        },
        "id": "wBLu2KwqHMRu",
        "outputId": "6438603b-0295-4045-e45d-73dd19ae4467"
      },
      "outputs": [
        {
          "output_type": "stream",
          "name": "stdout",
          "text": [
            "Cloning into 'HodaDatasetReader'...\n",
            "remote: Enumerating objects: 24, done.\u001b[K\n",
            "remote: Total 24 (delta 0), reused 0 (delta 0), pack-reused 24\u001b[K\n",
            "Receiving objects: 100% (24/24), 6.34 MiB | 16.32 MiB/s, done.\n",
            "Resolving deltas: 100% (6/6), done.\n"
          ]
        }
      ],
      "source": [
        "!git clone https://github.com/amir-saniyan/HodaDatasetReader.git"
      ]
    },
    {
      "cell_type": "code",
      "source": [
        "import matplotlib.pyplot as plt\n",
        "from sklearn.svm import SVC\n",
        "from HodaDatasetReader.HodaDatasetReader import read_hoda_dataset\n",
        "from time import perf_counter"
      ],
      "metadata": {
        "id": "VPGQ9VSIONXD"
      },
      "execution_count": 14,
      "outputs": []
    },
    {
      "cell_type": "code",
      "source": [
        "X_train, y_train = read_hoda_dataset(\"/content/HodaDatasetReader/DigitDB/Train 60000.cdb\")\n",
        "X_test, y_test = read_hoda_dataset(\"/content/HodaDatasetReader/DigitDB/Test 20000.cdb\")"
      ],
      "metadata": {
        "id": "RrXuM6OwPuE1"
      },
      "execution_count": 3,
      "outputs": []
    },
    {
      "cell_type": "code",
      "source": [
        "X_train.shape"
      ],
      "metadata": {
        "colab": {
          "base_uri": "https://localhost:8080/"
        },
        "id": "Fe1XZlKDQEkl",
        "outputId": "c0414bad-6491-4579-f510-ebef9fb80968"
      },
      "execution_count": 5,
      "outputs": [
        {
          "output_type": "execute_result",
          "data": {
            "text/plain": [
              "(60000, 1024)"
            ]
          },
          "metadata": {},
          "execution_count": 5
        }
      ]
    },
    {
      "cell_type": "code",
      "source": [
        "plt.figure(figsize=(12,5))\n",
        "for i in range(10):\n",
        "  plt.subplot(2, 5, i+1)\n",
        "  plt.imshow(X_train[i].reshape(32,32))\n",
        "  plt.title(y_train[i])\n",
        "\n",
        "plt.tight_layout()\n",
        "plt.show()"
      ],
      "metadata": {
        "colab": {
          "base_uri": "https://localhost:8080/",
          "height": 520
        },
        "id": "sqXkam6kQF3G",
        "outputId": "f61b93c3-4dd5-4aa2-d676-035501cd0169"
      },
      "execution_count": 8,
      "outputs": [
        {
          "output_type": "display_data",
          "data": {
            "text/plain": [
              "<Figure size 1200x500 with 10 Axes>"
            ],
            "image/png": "[encoded data removed]"
          },
          "metadata": {}
        }
      ]
    },
    {
      "cell_type": "code",
      "source": [
        "tr_time_start = perf_counter()\n",
        "\n",
        "hoda_svc = SVC(kernel=\"linear\", C=100)\n",
        "# C represents margin(soft|hard): High C -> hard margin | low C-> soft margin\n",
        "hoda_svc.fit(X_train[:20000], y_train[:20000])\n",
        "\n",
        "tr_time_end = perf_counter()\n",
        "print(f\"train acc: {hoda_svc.score(X_train, y_train)}\")\n",
        "print(f\"time span training phase: {tr_time_end - tr_time_start}\")"
      ],
      "metadata": {
        "colab": {
          "base_uri": "https://localhost:8080/"
        },
        "id": "WFkB7jdmQqS8",
        "outputId": "6ac8ffa3-b428-45ef-c0b1-1a03364bf65e"
      },
      "execution_count": 21,
      "outputs": [
        {
          "output_type": "stream",
          "name": "stdout",
          "text": [
            "train acc: 0.9746666666666667\n",
            "time span training phase: 47.90926867500002\n"
          ]
        }
      ]
    },
    {
      "cell_type": "code",
      "source": [
        "tr_time_start = perf_counter()\n",
        "\n",
        "test_score = hoda_svc.score(X_test, y_test)\n",
        "\n",
        "tr_time_end = perf_counter()\n",
        "print(f\"test acc: {test_score}\")\n",
        "print(f\"time span test phase: {tr_time_end - tr_time_start}\")"
      ],
      "metadata": {
        "colab": {
          "base_uri": "https://localhost:8080/"
        },
        "id": "_GfjLlU1Rhiq",
        "outputId": "f03c53c3-b3e6-46f1-a07b-8d02f63cdc56"
      },
      "execution_count": 20,
      "outputs": [
        {
          "output_type": "stream",
          "name": "stdout",
          "text": [
            "test acc: 0.93155\n",
            "time span test phase: 71.44555140000011\n"
          ]
        }
      ]
    },
    {
      "cell_type": "code",
      "source": [
        "for c in [0.01, 1, 100]:\n",
        "  for k in [\"linear\", \"rbf\"]:\n",
        "    tr_time_start = perf_counter()\n",
        "    hoda_svc_exp = SVC(kernel=k, C=c)\n",
        "    hoda_svc_exp.fit(X_train[:20000], y_train[:20000])\n",
        "    tr_time_end = perf_counter()\n",
        "    print(f\"\\n\\nKernel: {k}, C: {c}\\n\")\n",
        "    print(f\"train acc: {hoda_svc_exp.score(X_train, y_train)}\")\n",
        "    print(f\"time span training phase: {tr_time_end - tr_time_start}\")\n",
        "    tr_time_start = perf_counter()\n",
        "    test_score = hoda_svc.score(X_test, y_test)\n",
        "    tr_time_end = perf_counter()\n",
        "    print(f\"test acc: {test_score}\")\n",
        "    print(f\"time span test phase: {tr_time_end - tr_time_start}\")"
      ],
      "metadata": {
        "colab": {
          "base_uri": "https://localhost:8080/"
        },
        "id": "UcNZ4GtWRkpe",
        "outputId": "8bbe6f85-538c-4768-91b7-13eb65c6956e"
      },
      "execution_count": 22,
      "outputs": [
        {
          "output_type": "stream",
          "name": "stdout",
          "text": [
            "\n",
            "\n",
            "Kernel: linear, C: 0.01\n",
            "\n",
            "train acc: 0.9745333333333334\n",
            "time span training phase: 34.954341366000335\n",
            "test acc: 0.93155\n",
            "time span test phase: 62.89056019000009\n",
            "\n",
            "\n",
            "Kernel: rbf, C: 0.01\n",
            "\n",
            "train acc: 0.9137666666666666\n",
            "time span training phase: 387.1738838590004\n",
            "test acc: 0.93155\n",
            "time span test phase: 63.19737749900014\n",
            "\n",
            "\n",
            "Kernel: linear, C: 1\n",
            "\n",
            "train acc: 0.97465\n",
            "time span training phase: 36.04323922000003\n",
            "test acc: 0.93155\n",
            "time span test phase: 62.62058779800009\n",
            "\n",
            "\n",
            "Kernel: rbf, C: 1\n",
            "\n",
            "train acc: 0.9874666666666667\n",
            "time span training phase: 68.09932901600041\n",
            "test acc: 0.93155\n",
            "time span test phase: 61.51273381200008\n",
            "\n",
            "\n",
            "Kernel: linear, C: 100\n",
            "\n",
            "train acc: 0.9746666666666667\n",
            "time span training phase: 35.20698802300012\n",
            "test acc: 0.93155\n",
            "time span test phase: 59.26395800700084\n",
            "\n",
            "\n",
            "Kernel: rbf, C: 100\n",
            "\n",
            "train acc: 0.9914\n",
            "time span training phase: 65.24405355300041\n",
            "test acc: 0.93155\n",
            "time span test phase: 57.61149730099987\n"
          ]
        }
      ]
    },
    {
      "cell_type": "code",
      "source": [],
      "metadata": {
        "id": "w76cVmVlZTEk"
      },
      "execution_count": null,
      "outputs": []
    }
  ]
}